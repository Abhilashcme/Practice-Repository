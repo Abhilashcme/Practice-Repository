{
  "nbformat": 4,
  "nbformat_minor": 0,
  "metadata": {
    "kernelspec": {
      "display_name": "Python 3",
      "language": "python",
      "name": "python3"
    },
    "language_info": {
      "codemirror_mode": {
        "name": "ipython",
        "version": 3
      },
      "file_extension": ".py",
      "mimetype": "text/x-python",
      "name": "python",
      "nbconvert_exporter": "python",
      "pygments_lexer": "ipython3",
      "version": "3.6.8"
    },
    "colab": {
      "name": "11_Converting Text to Features.ipynb",
      "provenance": [],
      "collapsed_sections": [],
      "include_colab_link": true
    }
  },
  "cells": [
    {
      "cell_type": "markdown",
      "metadata": {
        "id": "view-in-github",
        "colab_type": "text"
      },
      "source": [
        "<a href=\"https://colab.research.google.com/github/Abhilashcme/Practice-Repository/blob/master/11_Converting_Text_to_Features.ipynb\" target=\"_parent\"><img src=\"https://colab.research.google.com/assets/colab-badge.svg\" alt=\"Open In Colab\"/></a>"
      ]
    },
    {
      "cell_type": "markdown",
      "metadata": {
        "id": "RR3wwwqOb8oh"
      },
      "source": [
        "<img src='https://drive.google.com/uc?id=11WfnSPn79Opv2rwTxldDYcv4Dv0pV-f3' />"
      ]
    },
    {
      "cell_type": "markdown",
      "metadata": {
        "id": "0AtfJzlHaOfg"
      },
      "source": [
        "Converting Text to Features Using One Hot Encoding\n",
        "--\n",
        "The traditional method used for feature engineering is One Hot encoding.\n",
        "If anyone knows the basics of machine learning, One Hot encoding is\n",
        "something they should have come across for sure at some point of time or\n",
        "maybe most of the time. It is a process of converting categorical variables\n",
        "into features or columns and coding one or zero for the presence of that\n",
        "particular category. We are going to use the same logic here, and the\n",
        "number of features is going to be the number of total tokens present in the\n",
        "whole corpus.\n",
        "\n",
        "<small><b><font color='brown'>On hot encoding was covered under \"Machine Learning Course\" also.</font></b></small>"
      ]
    },
    {
      "cell_type": "markdown",
      "metadata": {
        "id": "CJJdLA11aOfj"
      },
      "source": [
        "Problem\n",
        "--\n",
        "You want to convert text to feature using One Hot encoding.\n",
        "\n",
        "Solution\n",
        "--\n",
        "One Hot Encoding will basically convert characters or words into binary\n",
        "numbers as shown below."
      ]
    },
    {
      "cell_type": "code",
      "metadata": {
        "id": "B5kk8CsNaOfk",
        "colab": {
          "base_uri": "https://localhost:8080/",
          "height": 294
        },
        "outputId": "bd6c4128-b878-4877-9b19-2635212ecc6c"
      },
      "source": [
        "Text = \"I am learning NLP , NLP is fun\"\n",
        "\n",
        "# Importing the library\n",
        "import pandas as pd\n",
        "\n",
        "# Generating the features\n",
        "pd.get_dummies(Text.split())"
      ],
      "execution_count": null,
      "outputs": [
        {
          "output_type": "execute_result",
          "data": {
            "text/html": [
              "<div>\n",
              "<style scoped>\n",
              "    .dataframe tbody tr th:only-of-type {\n",
              "        vertical-align: middle;\n",
              "    }\n",
              "\n",
              "    .dataframe tbody tr th {\n",
              "        vertical-align: top;\n",
              "    }\n",
              "\n",
              "    .dataframe thead th {\n",
              "        text-align: right;\n",
              "    }\n",
              "</style>\n",
              "<table border=\"1\" class=\"dataframe\">\n",
              "  <thead>\n",
              "    <tr style=\"text-align: right;\">\n",
              "      <th></th>\n",
              "      <th>,</th>\n",
              "      <th>I</th>\n",
              "      <th>NLP</th>\n",
              "      <th>am</th>\n",
              "      <th>fun</th>\n",
              "      <th>is</th>\n",
              "      <th>learning</th>\n",
              "    </tr>\n",
              "  </thead>\n",
              "  <tbody>\n",
              "    <tr>\n",
              "      <th>0</th>\n",
              "      <td>0</td>\n",
              "      <td>1</td>\n",
              "      <td>0</td>\n",
              "      <td>0</td>\n",
              "      <td>0</td>\n",
              "      <td>0</td>\n",
              "      <td>0</td>\n",
              "    </tr>\n",
              "    <tr>\n",
              "      <th>1</th>\n",
              "      <td>0</td>\n",
              "      <td>0</td>\n",
              "      <td>0</td>\n",
              "      <td>1</td>\n",
              "      <td>0</td>\n",
              "      <td>0</td>\n",
              "      <td>0</td>\n",
              "    </tr>\n",
              "    <tr>\n",
              "      <th>2</th>\n",
              "      <td>0</td>\n",
              "      <td>0</td>\n",
              "      <td>0</td>\n",
              "      <td>0</td>\n",
              "      <td>0</td>\n",
              "      <td>0</td>\n",
              "      <td>1</td>\n",
              "    </tr>\n",
              "    <tr>\n",
              "      <th>3</th>\n",
              "      <td>0</td>\n",
              "      <td>0</td>\n",
              "      <td>1</td>\n",
              "      <td>0</td>\n",
              "      <td>0</td>\n",
              "      <td>0</td>\n",
              "      <td>0</td>\n",
              "    </tr>\n",
              "    <tr>\n",
              "      <th>4</th>\n",
              "      <td>1</td>\n",
              "      <td>0</td>\n",
              "      <td>0</td>\n",
              "      <td>0</td>\n",
              "      <td>0</td>\n",
              "      <td>0</td>\n",
              "      <td>0</td>\n",
              "    </tr>\n",
              "    <tr>\n",
              "      <th>5</th>\n",
              "      <td>0</td>\n",
              "      <td>0</td>\n",
              "      <td>1</td>\n",
              "      <td>0</td>\n",
              "      <td>0</td>\n",
              "      <td>0</td>\n",
              "      <td>0</td>\n",
              "    </tr>\n",
              "    <tr>\n",
              "      <th>6</th>\n",
              "      <td>0</td>\n",
              "      <td>0</td>\n",
              "      <td>0</td>\n",
              "      <td>0</td>\n",
              "      <td>0</td>\n",
              "      <td>1</td>\n",
              "      <td>0</td>\n",
              "    </tr>\n",
              "    <tr>\n",
              "      <th>7</th>\n",
              "      <td>0</td>\n",
              "      <td>0</td>\n",
              "      <td>0</td>\n",
              "      <td>0</td>\n",
              "      <td>1</td>\n",
              "      <td>0</td>\n",
              "      <td>0</td>\n",
              "    </tr>\n",
              "  </tbody>\n",
              "</table>\n",
              "</div>"
            ],
            "text/plain": [
              "   ,  I  NLP  am  fun  is  learning\n",
              "0  0  1    0   0    0   0         0\n",
              "1  0  0    0   1    0   0         0\n",
              "2  0  0    0   0    0   0         1\n",
              "3  0  0    1   0    0   0         0\n",
              "4  1  0    0   0    0   0         0\n",
              "5  0  0    1   0    0   0         0\n",
              "6  0  0    0   0    0   1         0\n",
              "7  0  0    0   0    1   0         0"
            ]
          },
          "metadata": {
            "tags": []
          },
          "execution_count": 1
        }
      ]
    },
    {
      "cell_type": "markdown",
      "metadata": {
        "id": "ulhfpIGIaOfr"
      },
      "source": [
        "Output has 7 features since the number of distinct words present in the input was 7."
      ]
    },
    {
      "cell_type": "markdown",
      "metadata": {
        "id": "Cb-DcqGqaOfs"
      },
      "source": [
        "Converting Text to Features Using Count Vectorizing\n",
        "--\n",
        "Above approach \"One hot encoding\" has a disadvantage. It does not take the\n",
        "frequency of the word occurring into consideration. If a particular word\n",
        "is appearing multiple times, there is a chance of missing the information\n",
        "if it is not included in the analysis. A count vectorizer will solve that\n",
        "problem.\n",
        "\n",
        "Problem\n",
        "--\n",
        "How do we convert text to feature using a count vectorizer?\n",
        "\n",
        "Solution\n",
        "--\n",
        "Count vectorizer is almost similar to One Hot encoding. The only\n",
        "difference is instead of checking whether the particular word is present or\n",
        "not, it will count the words that are present in the document.\n",
        "Observe the below example. The words “I” and “NLP” occur twice in\n",
        "the first document."
      ]
    },
    {
      "cell_type": "code",
      "metadata": {
        "id": "lleuMRj-aOft"
      },
      "source": [
        "#importing the function\n",
        "from sklearn.feature_extraction.text import CountVectorizer\n",
        "\n",
        "# Text\n",
        "text = [\"I love NLP and I will learn NLP in 2month \"]\n",
        "\n",
        "# create the transform\n",
        "\n",
        "\n",
        "# tokenizing\n",
        "\n",
        "\n",
        "# encode document\n",
        "\n",
        "\n",
        "# summarize & generating output\n",
        "\n"
      ],
      "execution_count": null,
      "outputs": []
    },
    {
      "cell_type": "markdown",
      "metadata": {
        "id": "tgJ8vRSUaOfy"
      },
      "source": [
        "<font color='green'><b>Observation</b></font> : The fifth token nlp has appeared twice in the document. \n",
        "\n",
        "**Note** : CountVectorizer does not consider single char words like `I` , `a`. "
      ]
    },
    {
      "cell_type": "markdown",
      "metadata": {
        "id": "B6GZ1fykaOfz"
      },
      "source": [
        "Generating N-grams\n",
        "--\n",
        "If you observe the above methods, each word is considered as a feature.\n",
        "There is a drawback to this method. It does not consider the previous and the next words, to see if that would give a proper and complete meaning to the words.\n",
        "\n",
        "For example: consider the word “not bad.” If this is split into individual\n",
        "words, then it will lose out on conveying “good” – which is what this word\n",
        "actually means.\n",
        "\n",
        "As we saw, we might lose potential information or insight because a lot of words make sense once they are put together. This problem can be solved by N-grams.\n",
        "\n",
        "N-grams are the fusion of multiple letters or multiple words. They are\n",
        "formed in such a way that even the previous and next words are captured.\n",
        "\n",
        "• Unigrams are the unique words present in the sentence.\n",
        "• Bigram is the combination of 2 words.\n",
        "• Trigram is 3 words and so on.\n",
        "\n",
        "For example,\n",
        "“I am learning NLP”\n",
        "\n",
        "Unigrams: “I”, “am”, “ learning”, “NLP”\n",
        "\n",
        "Bigrams: “I am”, “am learning”, “learning NLP”\n",
        "\n",
        "Trigrams: “I am learning”, “am learning NLP”"
      ]
    },
    {
      "cell_type": "markdown",
      "metadata": {
        "id": "dsbErmMlaOf0"
      },
      "source": [
        "Problem\n",
        "--\n",
        "Generate the N-grams for the given sentence.\n",
        "\n",
        "Solution\n",
        "--\n",
        "There are a lot of packages that will generate the N-grams. The one that is\n",
        "mostly used is TextBlob."
      ]
    },
    {
      "cell_type": "code",
      "metadata": {
        "id": "q1QZNF4saOf1",
        "outputId": "328a01c2-7737-4c05-a640-881190a996c6"
      },
      "source": [
        "Text = \"I am learning NLP\"\n",
        "\n",
        "# Use the below TextBlob function to create N-grams. Use the text that is\n",
        "# defined above and mention the “n” based on the requirement.\n",
        "\n",
        "#Import textblob\n",
        "from textblob import TextBlob\n",
        "\n",
        "#For unigram : Use n = 1\n",
        "TextBlob(Text).ngrams(1)"
      ],
      "execution_count": null,
      "outputs": [
        {
          "output_type": "execute_result",
          "data": {
            "text/plain": [
              "[WordList(['I']), WordList(['am']), WordList(['learning']), WordList(['NLP'])]"
            ]
          },
          "metadata": {
            "tags": []
          },
          "execution_count": 5
        }
      ]
    },
    {
      "cell_type": "code",
      "metadata": {
        "id": "1cy72o_yaOf5",
        "outputId": "fab0febf-f353-4002-fb0b-541bd04099d4"
      },
      "source": [
        "#For Bigram : use n = 2\n",
        "TextBlob(Text).ngrams(2)"
      ],
      "execution_count": null,
      "outputs": [
        {
          "output_type": "execute_result",
          "data": {
            "text/plain": [
              "[WordList(['I', 'am']),\n",
              " WordList(['am', 'learning']),\n",
              " WordList(['learning', 'NLP'])]"
            ]
          },
          "metadata": {
            "tags": []
          },
          "execution_count": 6
        }
      ]
    },
    {
      "cell_type": "code",
      "metadata": {
        "id": "g8eH0dwvaOf9",
        "outputId": "f3fc94fa-d466-46f2-b77d-4e6e289d662f"
      },
      "source": [
        "#For trigram : use n = 3\n",
        "TextBlob(Text).ngrams(3)"
      ],
      "execution_count": null,
      "outputs": [
        {
          "output_type": "execute_result",
          "data": {
            "text/plain": [
              "[WordList(['I', 'am', 'learning']), WordList(['am', 'learning', 'NLP'])]"
            ]
          },
          "metadata": {
            "tags": []
          },
          "execution_count": 7
        }
      ]
    },
    {
      "cell_type": "markdown",
      "metadata": {
        "id": "RERpLE85aOgC"
      },
      "source": [
        "Generating Bigram-based features for a document using CountVectorizer\n",
        "--\n",
        "\n",
        "Just like in the last code-example, we used TextBlob class, we can do the same thing by using count vectorizer to generate features."
      ]
    },
    {
      "cell_type": "code",
      "metadata": {
        "id": "6Otsp5SdaOgC",
        "outputId": "7ca422e0-aadf-476a-ee3a-6b7a3b8798ca"
      },
      "source": [
        "#importing the function\n",
        "from sklearn.feature_extraction.text import CountVectorizer\n",
        "\n",
        "# Text\n",
        "text = [\"I love NLP and I will learn NLP in 2month\"]\n",
        "\n",
        "# create the transform\n",
        "\n",
        "\n",
        "# tokenizing\n",
        "\n",
        "\n",
        "# encode document\n",
        "\n",
        "\n",
        "# summarize & generating output\n",
        "\n"
      ],
      "execution_count": null,
      "outputs": [
        {
          "output_type": "stream",
          "text": [
            "{'love nlp': 3, 'nlp and': 4, 'and will': 0, 'will learn': 6, 'learn nlp': 2, 'nlp in': 5, 'in 2month': 1}\n",
            "[[1 1 1 1 1 1 1]]\n"
          ],
          "name": "stdout"
        }
      ]
    },
    {
      "cell_type": "markdown",
      "metadata": {
        "id": "uA-yqxkbaOgM"
      },
      "source": [
        "The output has features with bigrams, and for our example, the count\n",
        "is one for all the tokens.\n",
        "\n",
        "Note : single letter words are not considered as \"words\" by the CountVectorizer"
      ]
    },
    {
      "cell_type": "markdown",
      "metadata": {
        "id": "v8WdXJ9yaOgN"
      },
      "source": [
        "Hash Vectorizing\n",
        "--\n",
        "CountVectorizer has one limitation. In this method, the vocabulary can \n",
        "become very large and cause memory/computation issues.\n",
        "\n",
        "One of the ways to solve this problem is a Hash Vectorizer."
      ]
    },
    {
      "cell_type": "markdown",
      "metadata": {
        "id": "wJgHqzAHaOgN"
      },
      "source": [
        "Problem\n",
        "--\n",
        "Understand and generate a Hash Vectorizer.\n",
        "\n",
        "Solution\n",
        "--\n",
        "Hash Vectorizer is memory efficient and instead of storing the tokens\n",
        "as strings, the vectorizer applies the hashing trick to encode them as\n",
        "numerical indexes. The downside is that it’s one way and once vectorized,\n",
        "the features cannot be retrieved."
      ]
    },
    {
      "cell_type": "code",
      "metadata": {
        "id": "Y9MWtwgcaOgO",
        "outputId": "31dd949a-f788-4696-b7a2-6ad4dbb16128"
      },
      "source": [
        "from sklearn.feature_extraction.text import HashingVectorizer\n",
        "\n",
        "# list of text documents\n",
        "text = [\"The quick brown fox jumped over the lazy dog.\"]\n",
        "\n",
        "# transform\n",
        "vectorizer = HashingVectorizer(n_features=10)\n",
        "# recommended reading : https://machinelearningmastery.com/prepare-text-data-machine-learning-scikit-learn/\n",
        "# https://datascience.stackexchange.com/questions/22250/what-is-the-difference-between-a-hashing-vectorizer-and-a-tfidf-vectorizer\n",
        "\n",
        "\n",
        "# create the hashing vector\n",
        "vector = vectorizer.transform(text)\n",
        "\n",
        "# summarize the vector\n",
        "print(vector.shape)\n",
        "print(vector.toarray())"
      ],
      "execution_count": null,
      "outputs": [
        {
          "output_type": "stream",
          "text": [
            "(1, 10)\n",
            "[[ 0.          0.57735027  0.          0.          0.          0.\n",
            "   0.         -0.57735027 -0.57735027  0.        ]]\n"
          ],
          "name": "stdout"
        }
      ]
    },
    {
      "cell_type": "markdown",
      "metadata": {
        "id": "QCidRlxhaOgS"
      },
      "source": [
        "It created vector of size 10 and now this can be used for any\n",
        "supervised/unsupervised tasks."
      ]
    },
    {
      "cell_type": "markdown",
      "metadata": {
        "id": "7pHHMcA1aOgT"
      },
      "source": [
        "The **trainer and participants** should discuss the relevance of above vector o/p."
      ]
    },
    {
      "cell_type": "markdown",
      "metadata": {
        "id": "dsu8ThFYaOgU"
      },
      "source": [
        "Converting Text to Features Using TF-IDF\n",
        "--\n",
        "Again, in the above-mentioned text-to-feature methods, there are few drawbacks, hence the introduction of TF-IDF. \n",
        "\n",
        "Below are the disadvantages of the above methods.\n",
        "\n",
        "• Let’s say a particular word is appearing in all the documents of the corpus, then it will achieve higher importance in our previous methods. That’s bad for our analysis.\n",
        "\n",
        "• The whole idea of having TF-IDF is to reflect on how important a word is to a document in a collection, and hence normalizing words appeared frequently in all the documents.\n",
        "\n",
        "Problem\n",
        "--\n",
        "Text to feature using TF-IDF.\n",
        "\n",
        "Solution\n",
        "--\n",
        "Term frequency (TF): Term frequency is simply the ratio of the count of a\n",
        "word present in a sentence, to the length of the sentence.\n",
        "\n",
        "TF is basically capturing the importance of the word irrespective of the\n",
        "length of the document. For example, a word with the frequency of 3 with\n",
        "the length of sentence being 10 is not the same as when the word length of\n",
        "sentence is 100 words. It should get more importance in the first scenario;\n",
        "that is what TF does.\n",
        "\n",
        "Inverse Document Frequency (IDF): IDF of each word is the log of the ratio of the total number of rows to the number of rows in a particular document in which that word is present.\n",
        "\n",
        "IDF = log(N/n), where N is the total number of rows and n is the\n",
        "number of rows in which the word was present.\n",
        "\n",
        "IDF will measure the rareness of a term. Words like “a,” and “the” show\n",
        "up in all the documents of the corpus, but rare words will not be there\n",
        "in all the documents. So, if a word is appearing in almost all documents,\n",
        "then that word is of no use to us since it is not helping to classify or in\n",
        "information retrieval. IDF will nullify this problem.\n",
        "\n",
        "TF-IDF is the simple product of TF and IDF so that both of the drawbacks are addressed, which makes predictions and information retrieval relevant."
      ]
    },
    {
      "cell_type": "code",
      "metadata": {
        "id": "byFbP55RaOgU",
        "outputId": "b151ca34-e889-4f91-a389-04df3c1a63f0"
      },
      "source": [
        "Text = [\"The quick brown fox jumped over the lazy dog.\",\n",
        "\"The dog.\",\n",
        "\"The fox\"]\n",
        "\n",
        "#Import TfidfVectorizer\n",
        "from sklearn.feature_extraction.text import TfidfVectorizer\n",
        "\n",
        "#Create the transform\n",
        "vectorizer = TfidfVectorizer()\n",
        "\n",
        "#Tokenize and build vocab\n",
        "vectorizer.fit(Text)\n",
        "\n",
        "#Summarize\n",
        "print(vectorizer.vocabulary_)\n",
        "print(vectorizer.idf_)"
      ],
      "execution_count": null,
      "outputs": [
        {
          "output_type": "stream",
          "text": [
            "{'the': 7, 'quick': 6, 'brown': 0, 'fox': 2, 'jumped': 3, 'over': 5, 'lazy': 4, 'dog': 1}\n",
            "[1.69314718 1.28768207 1.28768207 1.69314718 1.69314718 1.69314718\n",
            " 1.69314718 1.        ]\n"
          ],
          "name": "stdout"
        }
      ]
    },
    {
      "cell_type": "markdown",
      "metadata": {
        "id": "ePtUDtS6aOgY"
      },
      "source": [
        "If you observe, “the” is appearing in all the 3 documents and it does\n",
        "not add much value, and hence the vector value is 1, which is less than all\n",
        "the other vector representations of the tokens.\n",
        "\n",
        "All these methods or techniques we have looked into so far are based\n",
        "on frequency and hence called frequency-based embeddings or features.\n",
        "And in the next section, let us look at prediction-based embeddings,\n",
        "typically called word embeddings."
      ]
    },
    {
      "cell_type": "markdown",
      "metadata": {
        "id": "zQA0QtJ6aOgZ"
      },
      "source": [
        "Implementing Word Embeddings\n",
        "--\n",
        "This section assumes that you have a working knowledge of how a neural\n",
        "network works and you can terms like :\n",
        "\n",
        "a. Deep learning\n",
        "\n",
        "b. Perceptron and Sigmoid\n",
        "\n",
        "c. FFNN ( feed forward Neural Network)\n",
        "\n",
        "d. RNN (Recurrent Neural Network )\n",
        "\n",
        "**( If new to a Neural Network (NN), it is suggested that you go through Chapter 1 to gain a basic understanding of how NN works. )\n",
        "\n",
        "Even though all previous methods solve most of the problems, once we get into more complicated problems where we want to capture the semantic relation between the words, these methods fail to perform.\n",
        "\n",
        "Below are the challenges:\n",
        "\n",
        "• All these techniques fail to capture the context and meaning of the words. All the methods discussed so far basically depend on the appearance or frequency of the words. But we need to look at how to capture the context or semantic relations: that is, how frequently the words are appearing close by.\n",
        "\n",
        ">a. I am eating an apple.\n",
        "\n",
        ">b. I am using apple.\n",
        "\n",
        "If you observe the above example, Apple gives different meanings when it is used with different (close by) adjacent words, eating and using.\n",
        "\n",
        "• For a problem like a document classification (book classification in the library), a document is really huge and there are a humongous number of tokens\n",
        "generated. In these scenarios, your number of features can get out of control (wherein) thus hampering the accuracy and performance.\n",
        "\n",
        "A machine/algorithm can match two documents/texts and say whether they are same or not. But how do we make machines tell you about cricket or Virat Kohli when you search for MS Dhoni? How do you make a machine understand that “Apple” in “Apple is a tasty fruit” is a fruit that can be eaten and not a company?\n",
        "\n",
        "The answer to the above questions lies in creating a representation for words that capture their meanings, semantic relationships, and the different types of contexts they are used in.\n",
        "\n",
        "> The above challenges are addressed by Word Embeddings.\n",
        "\n",
        "Word embedding is the feature learning technique where words from the vocabulary are mapped to vectors of real numbers capturing the contextual hierarchy.\n",
        "\n",
        "If you observe the below table, every word is represented with 4 numbers called vectors. Using the word embeddings technique, we are going to derive those vectors for each and every word so that we can use it in future analysis. In the below example, the dimension is 4. But we usually use a dimension greater than 100."
      ]
    },
    {
      "cell_type": "markdown",
      "metadata": {
        "id": "IfZWOtLJaOgb"
      },
      "source": [
        "<img src=\"https://drive.google.com/uc?id=165llWGYsReLC4BCtyZs6ZLYeggkg1k1m\"  />"
      ]
    },
    {
      "cell_type": "markdown",
      "metadata": {
        "id": "AnIWSWCNaOgc"
      },
      "source": [
        "Problem\n",
        "--\n",
        "You want to implement word embeddings.\n",
        "\n",
        "Solution\n",
        "--\n",
        "Word embeddings are prediction based, and they use shallow neural networks to train the model that will lead to learning the weight and using them as a vector representation.\n",
        "\n",
        "<font color='green'>word2vec</font>\n",
        "--\n",
        "**word2vec** is the deep learning Google framework to train word embeddings. It will use all the words of the whole corpus and predict\n",
        "the nearby words. It will create a vector for all the words present in the\n",
        "corpus in a way so that the context is captured. It also outperforms any\n",
        "other methodologies in the space of word similarity and word analogies.\n",
        "\n",
        "There are mainly 2 types of word2vec Model.\n",
        "\n",
        "• Skip-Gram\n",
        "\n",
        "• Continuous Bag of Words (CBOW)"
      ]
    },
    {
      "cell_type": "markdown",
      "metadata": {
        "id": "zqmDRw1RaOgc"
      },
      "source": [
        "<img src=\"https://drive.google.com/uc?id=1ZC7kOYkuY2BGRCONWde38usTOCRJqJlR\"/>"
      ]
    },
    {
      "cell_type": "markdown",
      "metadata": {
        "id": "AsJ6785laOgd"
      },
      "source": [
        "The above figure shows the architecture of the CBOW and skip-gram\n",
        "algorithms used to build word embeddings. Let us see how these models\n",
        "work in detail.\n",
        "\n",
        "Skip-Gram\n",
        "--\n",
        "The skip-gram model is used to predict the probabilities of a word given the context of word or words.\n",
        "\n",
        "Let us take a small sentence and understand how it actually works.\n",
        "Each sentence will generate a target word and context, which are the words\n",
        "nearby. The number of words to be considered around the target variable\n",
        "is called the window size. The table below shows all the possible target\n",
        "and context variables for window size 2. Window size needs to be selected\n",
        "based on data and the resources at your disposal. The larger the window\n",
        "size, the higher the computing power."
      ]
    },
    {
      "cell_type": "markdown",
      "metadata": {
        "id": "lwTt4-BMaOge"
      },
      "source": [
        "<img src=\"https://drive.google.com/uc?id=18nKDL_JAX96Zs_ILGMrcdd517GWLwrW2\"/>"
      ]
    },
    {
      "cell_type": "markdown",
      "metadata": {
        "id": "FtDnwZltaOgf"
      },
      "source": [
        "Since it takes a lot of text and computing power, let us go ahead and take sample data and build a skip-gram model.\n",
        "\n",
        "As mentioned *in earlier NB's*, import the text corpus and break it into sentences. Perform **some cleaning and preprocessing** like the removal of\n",
        "punctuation and digits, and split the sentences into words or tokens, etc.\n"
      ]
    },
    {
      "cell_type": "code",
      "metadata": {
        "id": "f5sRLVEOaOgf",
        "colab": {
          "base_uri": "https://localhost:8080/"
        },
        "outputId": "67f3d85a-a683-47e4-f886-125434892b96"
      },
      "source": [
        "#Example sentences\n",
        "sentences = [['I', 'love', 'nlp'],\n",
        "['I', 'will', 'learn', 'nlp', 'in', '2','months'],\n",
        "['nlp', 'is', 'future'],\n",
        "[ 'nlp', 'saves', 'time', 'and', 'solves',\n",
        "'lot', 'of', 'industry', 'problems'],\n",
        "['nlp', 'uses', 'machine', 'learning']]\n",
        "\n",
        "#import library\n",
        "!pip install gensim\n",
        "import gensim\n",
        "from gensim.models import Word2Vec\n",
        "from sklearn.decomposition import PCA\n",
        "from matplotlib import pyplot\n"
      ],
      "execution_count": null,
      "outputs": [
        {
          "output_type": "stream",
          "text": [
            "Requirement already satisfied: gensim in /usr/local/lib/python3.7/dist-packages (3.6.0)\n",
            "Requirement already satisfied: smart-open>=1.2.1 in /usr/local/lib/python3.7/dist-packages (from gensim) (4.2.0)\n",
            "Requirement already satisfied: six>=1.5.0 in /usr/local/lib/python3.7/dist-packages (from gensim) (1.15.0)\n",
            "Requirement already satisfied: numpy>=1.11.3 in /usr/local/lib/python3.7/dist-packages (from gensim) (1.19.5)\n",
            "Requirement already satisfied: scipy>=0.18.1 in /usr/local/lib/python3.7/dist-packages (from gensim) (1.4.1)\n"
          ],
          "name": "stdout"
        }
      ]
    },
    {
      "cell_type": "code",
      "metadata": {
        "id": "CzBCPYZ3aOgj",
        "colab": {
          "base_uri": "https://localhost:8080/"
        },
        "outputId": "499ad1ad-41a0-4b97-eda3-3692e334ecc1"
      },
      "source": [
        "# training the model\n",
        "skipgram = Word2Vec(sentences, size = 50, window = 3, min_count=1,sg = 1)\n",
        "# size=50 -> means size of vector to represent each token or word (default 100)\n",
        "# window=3 -> The maximum distance between the target word and its neighboring word.(default 5)\n",
        "# min_count=1 -> Minimium frequency count of words. \n",
        "#                The model would ignore words that do not satisfy the min_count.\n",
        "#                Extremely infrequent words are usually unimportant. (default 5)\n",
        "# workers -> How many threads to use behind the scenes? (default 3) \n",
        "# sg -> (default 0 or CBOW) The training algorithm, either CBOW (0)     \n",
        "#                           or skip gram (1).\n",
        "# access vector for one word\n",
        "\n",
        "print(skipgram['nlp'])\n",
        "\n",
        "# Since our vector size parameter was 50, the model \n",
        "# gives a vector of size 50 for each word."
      ],
      "execution_count": null,
      "outputs": [
        {
          "output_type": "stream",
          "text": [
            "[ 0.00718703  0.00763981  0.00695172  0.00813782 -0.00887525 -0.00803085\n",
            " -0.00431883  0.00207878 -0.00875146 -0.0046384   0.00424325  0.00071037\n",
            " -0.00104714  0.00886896 -0.00913709  0.00242145 -0.00112036 -0.00302467\n",
            " -0.00992979 -0.00990183 -0.00468921  0.00364246  0.00682379  0.00500321\n",
            "  0.0073774   0.00330347  0.00477171  0.00595367 -0.00469084  0.00596198\n",
            " -0.0014424   0.00803833  0.00990206  0.00452163  0.00512624 -0.0013401\n",
            " -0.00586587  0.00113133  0.00240152  0.00234761  0.00665754 -0.00957992\n",
            " -0.00767391  0.00976941 -0.00268541 -0.00766341 -0.00843966  0.00701294\n",
            " -0.00027442  0.00965829]\n"
          ],
          "name": "stdout"
        },
        {
          "output_type": "stream",
          "text": [
            "/usr/local/lib/python3.6/dist-packages/ipykernel_launcher.py:13: DeprecationWarning: Call to deprecated `__getitem__` (Method will be removed in 4.0.0, use self.wv.__getitem__() instead).\n",
            "  del sys.path[0]\n"
          ],
          "name": "stderr"
        }
      ]
    },
    {
      "cell_type": "code",
      "metadata": {
        "id": "j2OY-MQOaOgn",
        "colab": {
          "base_uri": "https://localhost:8080/",
          "height": 374
        },
        "outputId": "6a68e9e6-08ee-4e30-804d-732df93422ed"
      },
      "source": [
        "# access vector for another one word\n",
        "print(skipgram['deep'])"
      ],
      "execution_count": null,
      "outputs": [
        {
          "output_type": "stream",
          "text": [
            "/usr/local/lib/python3.6/dist-packages/ipykernel_launcher.py:2: DeprecationWarning: Call to deprecated `__getitem__` (Method will be removed in 4.0.0, use self.wv.__getitem__() instead).\n",
            "  \n"
          ],
          "name": "stderr"
        },
        {
          "output_type": "error",
          "ename": "KeyError",
          "evalue": "ignored",
          "traceback": [
            "\u001b[0;31m---------------------------------------------------------------------------\u001b[0m",
            "\u001b[0;31mKeyError\u001b[0m                                  Traceback (most recent call last)",
            "\u001b[0;32m<ipython-input-3-9fcdf829f234>\u001b[0m in \u001b[0;36m<module>\u001b[0;34m()\u001b[0m\n\u001b[1;32m      1\u001b[0m \u001b[0;31m# access vector for another one word\u001b[0m\u001b[0;34m\u001b[0m\u001b[0;34m\u001b[0m\u001b[0;34m\u001b[0m\u001b[0m\n\u001b[0;32m----> 2\u001b[0;31m \u001b[0mprint\u001b[0m\u001b[0;34m(\u001b[0m\u001b[0mskipgram\u001b[0m\u001b[0;34m[\u001b[0m\u001b[0;34m'deep'\u001b[0m\u001b[0;34m]\u001b[0m\u001b[0;34m)\u001b[0m\u001b[0;34m\u001b[0m\u001b[0;34m\u001b[0m\u001b[0m\n\u001b[0m",
            "\u001b[0;32m/usr/local/lib/python3.6/dist-packages/gensim/utils.py\u001b[0m in \u001b[0;36mnew_func1\u001b[0;34m(*args, **kwargs)\u001b[0m\n\u001b[1;32m   1420\u001b[0m                     \u001b[0mstacklevel\u001b[0m\u001b[0;34m=\u001b[0m\u001b[0;36m2\u001b[0m\u001b[0;34m\u001b[0m\u001b[0;34m\u001b[0m\u001b[0m\n\u001b[1;32m   1421\u001b[0m                 )\n\u001b[0;32m-> 1422\u001b[0;31m                 \u001b[0;32mreturn\u001b[0m \u001b[0mfunc\u001b[0m\u001b[0;34m(\u001b[0m\u001b[0;34m*\u001b[0m\u001b[0margs\u001b[0m\u001b[0;34m,\u001b[0m \u001b[0;34m**\u001b[0m\u001b[0mkwargs\u001b[0m\u001b[0;34m)\u001b[0m\u001b[0;34m\u001b[0m\u001b[0;34m\u001b[0m\u001b[0m\n\u001b[0m\u001b[1;32m   1423\u001b[0m \u001b[0;34m\u001b[0m\u001b[0m\n\u001b[1;32m   1424\u001b[0m             \u001b[0;32mreturn\u001b[0m \u001b[0mnew_func1\u001b[0m\u001b[0;34m\u001b[0m\u001b[0;34m\u001b[0m\u001b[0m\n",
            "\u001b[0;32m/usr/local/lib/python3.6/dist-packages/gensim/models/word2vec.py\u001b[0m in \u001b[0;36m__getitem__\u001b[0;34m(self, words)\u001b[0m\n\u001b[1;32m   1101\u001b[0m \u001b[0;34m\u001b[0m\u001b[0m\n\u001b[1;32m   1102\u001b[0m         \"\"\"\n\u001b[0;32m-> 1103\u001b[0;31m         \u001b[0;32mreturn\u001b[0m \u001b[0mself\u001b[0m\u001b[0;34m.\u001b[0m\u001b[0mwv\u001b[0m\u001b[0;34m.\u001b[0m\u001b[0m__getitem__\u001b[0m\u001b[0;34m(\u001b[0m\u001b[0mwords\u001b[0m\u001b[0;34m)\u001b[0m\u001b[0;34m\u001b[0m\u001b[0;34m\u001b[0m\u001b[0m\n\u001b[0m\u001b[1;32m   1104\u001b[0m \u001b[0;34m\u001b[0m\u001b[0m\n\u001b[1;32m   1105\u001b[0m     \u001b[0;34m@\u001b[0m\u001b[0mdeprecated\u001b[0m\u001b[0;34m(\u001b[0m\u001b[0;34m\"Method will be removed in 4.0.0, use self.wv.__contains__() instead\"\u001b[0m\u001b[0;34m)\u001b[0m\u001b[0;34m\u001b[0m\u001b[0;34m\u001b[0m\u001b[0m\n",
            "\u001b[0;32m/usr/local/lib/python3.6/dist-packages/gensim/models/keyedvectors.py\u001b[0m in \u001b[0;36m__getitem__\u001b[0;34m(self, entities)\u001b[0m\n\u001b[1;32m    335\u001b[0m         \u001b[0;32mif\u001b[0m \u001b[0misinstance\u001b[0m\u001b[0;34m(\u001b[0m\u001b[0mentities\u001b[0m\u001b[0;34m,\u001b[0m \u001b[0mstring_types\u001b[0m\u001b[0;34m)\u001b[0m\u001b[0;34m:\u001b[0m\u001b[0;34m\u001b[0m\u001b[0;34m\u001b[0m\u001b[0m\n\u001b[1;32m    336\u001b[0m             \u001b[0;31m# allow calls like trained_model['office'], as a shorthand for trained_model[['office']]\u001b[0m\u001b[0;34m\u001b[0m\u001b[0;34m\u001b[0m\u001b[0;34m\u001b[0m\u001b[0m\n\u001b[0;32m--> 337\u001b[0;31m             \u001b[0;32mreturn\u001b[0m \u001b[0mself\u001b[0m\u001b[0;34m.\u001b[0m\u001b[0mget_vector\u001b[0m\u001b[0;34m(\u001b[0m\u001b[0mentities\u001b[0m\u001b[0;34m)\u001b[0m\u001b[0;34m\u001b[0m\u001b[0;34m\u001b[0m\u001b[0m\n\u001b[0m\u001b[1;32m    338\u001b[0m \u001b[0;34m\u001b[0m\u001b[0m\n\u001b[1;32m    339\u001b[0m         \u001b[0;32mreturn\u001b[0m \u001b[0mvstack\u001b[0m\u001b[0;34m(\u001b[0m\u001b[0;34m[\u001b[0m\u001b[0mself\u001b[0m\u001b[0;34m.\u001b[0m\u001b[0mget_vector\u001b[0m\u001b[0;34m(\u001b[0m\u001b[0mentity\u001b[0m\u001b[0;34m)\u001b[0m \u001b[0;32mfor\u001b[0m \u001b[0mentity\u001b[0m \u001b[0;32min\u001b[0m \u001b[0mentities\u001b[0m\u001b[0;34m]\u001b[0m\u001b[0;34m)\u001b[0m\u001b[0;34m\u001b[0m\u001b[0;34m\u001b[0m\u001b[0m\n",
            "\u001b[0;32m/usr/local/lib/python3.6/dist-packages/gensim/models/keyedvectors.py\u001b[0m in \u001b[0;36mget_vector\u001b[0;34m(self, word)\u001b[0m\n\u001b[1;32m    453\u001b[0m \u001b[0;34m\u001b[0m\u001b[0m\n\u001b[1;32m    454\u001b[0m     \u001b[0;32mdef\u001b[0m \u001b[0mget_vector\u001b[0m\u001b[0;34m(\u001b[0m\u001b[0mself\u001b[0m\u001b[0;34m,\u001b[0m \u001b[0mword\u001b[0m\u001b[0;34m)\u001b[0m\u001b[0;34m:\u001b[0m\u001b[0;34m\u001b[0m\u001b[0;34m\u001b[0m\u001b[0m\n\u001b[0;32m--> 455\u001b[0;31m         \u001b[0;32mreturn\u001b[0m \u001b[0mself\u001b[0m\u001b[0;34m.\u001b[0m\u001b[0mword_vec\u001b[0m\u001b[0;34m(\u001b[0m\u001b[0mword\u001b[0m\u001b[0;34m)\u001b[0m\u001b[0;34m\u001b[0m\u001b[0;34m\u001b[0m\u001b[0m\n\u001b[0m\u001b[1;32m    456\u001b[0m \u001b[0;34m\u001b[0m\u001b[0m\n\u001b[1;32m    457\u001b[0m     \u001b[0;32mdef\u001b[0m \u001b[0mwords_closer_than\u001b[0m\u001b[0;34m(\u001b[0m\u001b[0mself\u001b[0m\u001b[0;34m,\u001b[0m \u001b[0mw1\u001b[0m\u001b[0;34m,\u001b[0m \u001b[0mw2\u001b[0m\u001b[0;34m)\u001b[0m\u001b[0;34m:\u001b[0m\u001b[0;34m\u001b[0m\u001b[0;34m\u001b[0m\u001b[0m\n",
            "\u001b[0;32m/usr/local/lib/python3.6/dist-packages/gensim/models/keyedvectors.py\u001b[0m in \u001b[0;36mword_vec\u001b[0;34m(self, word, use_norm)\u001b[0m\n\u001b[1;32m    450\u001b[0m             \u001b[0;32mreturn\u001b[0m \u001b[0mresult\u001b[0m\u001b[0;34m\u001b[0m\u001b[0;34m\u001b[0m\u001b[0m\n\u001b[1;32m    451\u001b[0m         \u001b[0;32melse\u001b[0m\u001b[0;34m:\u001b[0m\u001b[0;34m\u001b[0m\u001b[0;34m\u001b[0m\u001b[0m\n\u001b[0;32m--> 452\u001b[0;31m             \u001b[0;32mraise\u001b[0m \u001b[0mKeyError\u001b[0m\u001b[0;34m(\u001b[0m\u001b[0;34m\"word '%s' not in vocabulary\"\u001b[0m \u001b[0;34m%\u001b[0m \u001b[0mword\u001b[0m\u001b[0;34m)\u001b[0m\u001b[0;34m\u001b[0m\u001b[0;34m\u001b[0m\u001b[0m\n\u001b[0m\u001b[1;32m    453\u001b[0m \u001b[0;34m\u001b[0m\u001b[0m\n\u001b[1;32m    454\u001b[0m     \u001b[0;32mdef\u001b[0m \u001b[0mget_vector\u001b[0m\u001b[0;34m(\u001b[0m\u001b[0mself\u001b[0m\u001b[0;34m,\u001b[0m \u001b[0mword\u001b[0m\u001b[0;34m)\u001b[0m\u001b[0;34m:\u001b[0m\u001b[0;34m\u001b[0m\u001b[0;34m\u001b[0m\u001b[0m\n",
            "\u001b[0;31mKeyError\u001b[0m: \"word 'deep' not in vocabulary\""
          ]
        }
      ]
    },
    {
      "cell_type": "markdown",
      "metadata": {
        "id": "wrTBufNtaOgs"
      },
      "source": [
        "**Note** : We get an error saying the word doesn’t exist because this word was not there in our input training data. This is the reason we need to train the algorithm on as much data possible so that we do not miss out on words.\n"
      ]
    },
    {
      "cell_type": "markdown",
      "metadata": {
        "id": "FICEBdluaOgs"
      },
      "source": [
        "Continuous Bag of Words (CBOW)\n",
        "--\n",
        "Now let’s see how to build CBOW model. (Its very similar to SkipGram model)"
      ]
    },
    {
      "cell_type": "code",
      "metadata": {
        "id": "0Lz6bOpqaOgt"
      },
      "source": [
        "#import library\n",
        "from gensim.models import Word2Vec\n",
        "from sklearn.decomposition import PCA\n",
        "from matplotlib import pyplot\n",
        "\n",
        "#Example sentences\n",
        "sentences = [['I', 'love', 'nlp'],\n",
        "['I', 'will', 'learn', 'nlp', 'in', '2','months'],\n",
        "['nlp', 'is', 'future'],\n",
        "[ 'nlp', 'saves', 'time', 'and', 'solves',\n",
        "'lot', 'of', 'industry', 'problems'],\n",
        "['nlp', 'uses', 'machine', 'learning']]"
      ],
      "execution_count": null,
      "outputs": []
    },
    {
      "cell_type": "code",
      "metadata": {
        "id": "YBRX5kEIaOgx",
        "colab": {
          "base_uri": "https://localhost:8080/"
        },
        "outputId": "9df04ac8-9863-4c53-df69-f06cf8c42a89"
      },
      "source": [
        "# training the model\n",
        "cbow = Word2Vec(sentences, size =50, window = 3, min_count=1,sg = 0)\n",
        "# size=50 -> means size of vector to represent each token or word\n",
        "# window=1 -> The maximum distance between the target word and its neighboring word.\n",
        "# min_count=1 -> Minimium frequency count of words. \n",
        "#                The model would ignore words that do not satisfy the min_count.\n",
        "#                Extremely infrequent words are usually unimportant.\n",
        "# workers -> How many threads to use behind the scenes?\n",
        "# as sg=0 i.e no skipgram , hence default CBOW\n",
        "\n",
        "# access vector for one word\n",
        "print(cbow['nlp'])"
      ],
      "execution_count": null,
      "outputs": [
        {
          "output_type": "stream",
          "text": [
            "[ 0.00718703  0.00763981  0.00695172  0.00813782 -0.00887525 -0.00803085\n",
            " -0.00431883  0.00207878 -0.00875146 -0.0046384   0.00424325  0.00071037\n",
            " -0.00104714  0.00886896 -0.00913709  0.00242145 -0.00112036 -0.00302467\n",
            " -0.00992979 -0.00990183 -0.00468921  0.00364246  0.00682379  0.00500321\n",
            "  0.0073774   0.00330347  0.00477171  0.00595367 -0.00469084  0.00596198\n",
            " -0.0014424   0.00803833  0.00990206  0.00452163  0.00512624 -0.0013401\n",
            " -0.00586587  0.00113133  0.00240152  0.00234761  0.00665754 -0.00957992\n",
            " -0.00767391  0.00976941 -0.00268541 -0.00766341 -0.00843966  0.00701294\n",
            " -0.00027442  0.00965829]\n"
          ],
          "name": "stdout"
        },
        {
          "output_type": "stream",
          "text": [
            "/usr/local/lib/python3.6/dist-packages/ipykernel_launcher.py:12: DeprecationWarning: Call to deprecated `__getitem__` (Method will be removed in 4.0.0, use self.wv.__getitem__() instead).\n",
            "  if sys.path[0] == '':\n"
          ],
          "name": "stderr"
        }
      ]
    },
    {
      "cell_type": "markdown",
      "metadata": {
        "id": "9egvbeVOaOg1"
      },
      "source": [
        "Important Observation \n",
        "--\n",
        "To train these models, it requires a huge amount of computing\n",
        "power. So, let us go ahead and use Google’s pre-trained model, which has\n",
        "been trained with over 100 billion words.\n",
        "\n",
        "Download the model from the below path and keep it in your local\n",
        "storage:\n",
        "https://drive.google.com/file/d/0B7XkCwpI5KDYNlNUTTlSS21pQmM/edit\n",
        "\n",
        "or **better off from this link** :\n",
        "\n",
        "https://s3.amazonaws.com/dl4j-distribution/GoogleNews-vectors-negative300.bin.gz\n",
        "\n",
        "Note **if running on Jupyter NB** : The Google Db is soo large that we would get ValueError, like this : ValueError: array is too big; `arr.size * arr.dtype.itemsize` is larger than the maximum possible size.\n"
      ]
    },
    {
      "cell_type": "code",
      "metadata": {
        "id": "DtdVkgeHaOg2"
      },
      "source": [
        "import warnings\n",
        "warnings.filterwarnings(\"ignore\", category=UserWarning)\n",
        "\n",
        "# import gensim package\n",
        "import gensim\n",
        "\n",
        "# load the saved model\n",
        "#model = gensim.models.KeyedVectors.load_word2vec_format('datasets/GoogleNews-vectors-negative300.bin', binary=True)\n",
        "model = gensim.models.KeyedVectors.load_word2vec_format('https://s3.amazonaws.com/dl4j-distribution/GoogleNews-vectors-negative300.bin.gz', binary=True)"
      ],
      "execution_count": null,
      "outputs": []
    },
    {
      "cell_type": "code",
      "metadata": {
        "id": "Jifu4g93aOg6",
        "colab": {
          "base_uri": "https://localhost:8080/"
        },
        "outputId": "9554e989-74dc-4169-8fb7-28ffc65fe96b"
      },
      "source": [
        "# lets check similarity\n",
        "print (model.similarity('This', 'is'))\n",
        "\n",
        "#Lets check one more.\n",
        "print (model.similarity('post', 'book'))"
      ],
      "execution_count": null,
      "outputs": [
        {
          "output_type": "stream",
          "text": [
            "0.3030219\n",
            "0.057204384\n"
          ],
          "name": "stdout"
        },
        {
          "output_type": "stream",
          "text": [
            "/usr/local/lib/python3.6/dist-packages/gensim/matutils.py:737: FutureWarning: Conversion of the second argument of issubdtype from `int` to `np.signedinteger` is deprecated. In future, it will be treated as `np.int64 == np.dtype(int).type`.\n",
            "  if np.issubdtype(vec.dtype, np.int):\n"
          ],
          "name": "stderr"
        }
      ]
    },
    {
      "cell_type": "markdown",
      "metadata": {
        "id": "pS5_M8NZaOg9"
      },
      "source": [
        "“`This`” and “`is`” have a good amount of similarity, but the similarity\n",
        "between the words “`post`” and “`book`” is poor. For any given set of words, it uses the vectors of both the words and calculates the similarity between them."
      ]
    },
    {
      "cell_type": "code",
      "metadata": {
        "id": "TT3ITyB4aOg-",
        "colab": {
          "base_uri": "https://localhost:8080/",
          "height": 122
        },
        "outputId": "b0d8b371-2266-40dd-aff9-eb193d6cb46a"
      },
      "source": [
        "# Finding the odd one out.\n",
        "model.doesnt_match('breakfast cereal dinner lunch'.split())"
      ],
      "execution_count": null,
      "outputs": [
        {
          "output_type": "stream",
          "text": [
            "/usr/local/lib/python3.6/dist-packages/gensim/models/keyedvectors.py:895: FutureWarning: arrays to stack must be passed as a \"sequence\" type such as list or tuple. Support for non-sequence iterables such as generators is deprecated as of NumPy 1.16 and will raise an error in the future.\n",
            "  vectors = vstack(self.word_vec(word, use_norm=True) for word in used_words).astype(REAL)\n",
            "/usr/local/lib/python3.6/dist-packages/gensim/matutils.py:737: FutureWarning: Conversion of the second argument of issubdtype from `int` to `np.signedinteger` is deprecated. In future, it will be treated as `np.int64 == np.dtype(int).type`.\n",
            "  if np.issubdtype(vec.dtype, np.int):\n"
          ],
          "name": "stderr"
        },
        {
          "output_type": "execute_result",
          "data": {
            "application/vnd.google.colaboratory.intrinsic+json": {
              "type": "string"
            },
            "text/plain": [
              "'cereal'"
            ]
          },
          "metadata": {
            "tags": []
          },
          "execution_count": 11
        }
      ]
    },
    {
      "cell_type": "markdown",
      "metadata": {
        "id": "-r6RHk1laOhB"
      },
      "source": [
        "Of '`breakfast`’, ‘`cereal`’, ‘`dinner`’ and ‘`lunch`', only **cereal** is the word that is\n",
        "not anywhere related to the remaining 3 words."
      ]
    },
    {
      "cell_type": "code",
      "metadata": {
        "id": "tbbBJX3kaOhC",
        "colab": {
          "base_uri": "https://localhost:8080/"
        },
        "outputId": "62c8ad58-c255-42ed-ba5b-8331dd18716e"
      },
      "source": [
        "# It is also finding the relations between words.\n",
        "#model.most_similar(positive=['woman', 'king'] , negative=['man'])  # default value of topn is 10\n",
        "\n",
        "# try this too :\n",
        "model.most_similar(positive=['woman', 'king'],negative=['man'], topn=1)"
      ],
      "execution_count": null,
      "outputs": [
        {
          "output_type": "stream",
          "text": [
            "/usr/local/lib/python3.6/dist-packages/gensim/matutils.py:737: FutureWarning: Conversion of the second argument of issubdtype from `int` to `np.signedinteger` is deprecated. In future, it will be treated as `np.int64 == np.dtype(int).type`.\n",
            "  if np.issubdtype(vec.dtype, np.int):\n"
          ],
          "name": "stderr"
        },
        {
          "output_type": "execute_result",
          "data": {
            "text/plain": [
              "[('queen', 0.7118192911148071)]"
            ]
          },
          "metadata": {
            "tags": []
          },
          "execution_count": 13
        }
      ]
    },
    {
      "cell_type": "markdown",
      "metadata": {
        "id": "LRLzCzYOaOhH"
      },
      "source": [
        "<img src=\"https://drive.google.com/uc?id=11Yu1Gj4Rw5BccL6KXnT_rXqYPyJbEUfZ\"/>"
      ]
    },
    {
      "cell_type": "markdown",
      "metadata": {
        "id": "oT1rvQhRaOhI"
      },
      "source": [
        "Implementing <font color='green'>fastText</font>\n",
        "--\n",
        "**fastText** is another deep learning framework developed by Facebook to capture context and meaning.\n",
        "\n",
        "Problem\n",
        "--\n",
        "How to implement fastText in Python.\n",
        "\n",
        "Solution\n",
        "--\n",
        "fastText is the improvised version of word2vec. word2vec basically\n",
        "considers words to build the representation. But fastText takes each\n",
        "character while computing the representation of the word."
      ]
    },
    {
      "cell_type": "code",
      "metadata": {
        "id": "YNtIJNqnaOhI",
        "colab": {
          "base_uri": "https://localhost:8080/"
        },
        "outputId": "6280ca6d-dd3b-4dbc-f197-3839487efcbd"
      },
      "source": [
        "# Let us see how to build a fastText word embedding.\n",
        "# Import FastText\n",
        "from gensim.models import FastText\n",
        "from sklearn.decomposition import PCA\n",
        "from matplotlib import pyplot\n",
        "\n",
        "#Example sentences\n",
        "sentences = [['I', 'love', 'nlp'],\n",
        "['I', 'will', 'learn', 'nlp', 'in', '2','months'],\n",
        "['nlp', 'is', 'future'],\n",
        "[ 'nlp', 'saves', 'time', 'and', 'solves',\n",
        "'lot', 'of', 'industry', 'problems'],\n",
        "['nlp', 'uses', 'machine', 'learning']]\n",
        "\n",
        "fast = FastText(sentences,size=10, window=1, min_count=1, workers=5, min_n=1, max_n=2)\n",
        "# size=10 -> means size of vector to represent each token or word\n",
        "# window=1 -> The maximum distance between the target word and its neighboring word.\n",
        "# min_count=1 -> Minimium frequency count of words. \n",
        "#                The model would ignore words that do not satisfy the min_count.\n",
        "#                Extremely infrequent words are usually unimportant.\n",
        "# workers -> How many threads to use behind the scenes?\n",
        "# min_n=1, max_n=2  -> When finding similarity or analogies like this :\n",
        "# \"Father\" - \"Boy\" + \"Girl\" == \"Mother\"\n",
        "#print(fast.most_similar(['girl', 'father'], ['boy'], topn=3))\n",
        "# [('mother', 0.7996115684509277), ('grandfather', 0.7629683613777161), \n",
        "# ('wife', 0.7478234767913818)]\n",
        "# we want the model to show min 1 and max 2 analogies\n",
        "\n",
        "\n",
        "# vector for word nlp\n",
        "print(fast['nlp'])\n"
      ],
      "execution_count": null,
      "outputs": [
        {
          "output_type": "stream",
          "text": [
            "[ 0.0012215   0.02347985 -0.01262391 -0.02205611 -0.00839358 -0.00156716\n",
            " -0.00200545  0.00993094 -0.00620706 -0.0087144 ]\n"
          ],
          "name": "stdout"
        },
        {
          "output_type": "stream",
          "text": [
            "/usr/local/lib/python3.6/dist-packages/ipykernel_launcher.py:31: DeprecationWarning: Call to deprecated `__getitem__` (Method will be removed in 4.0.0, use self.wv.__getitem__() instead).\n"
          ],
          "name": "stderr"
        }
      ]
    },
    {
      "cell_type": "code",
      "metadata": {
        "id": "dyPmRNYn_9tV",
        "colab": {
          "base_uri": "https://localhost:8080/"
        },
        "outputId": "c6eff972-d5cf-4539-bf6d-68e1ae649e0b"
      },
      "source": [
        "# Try this \n",
        "print(fast.most_similar(['machine', 'learning'], ['nlp'], topn=3))"
      ],
      "execution_count": null,
      "outputs": [
        {
          "output_type": "stream",
          "text": [
            "[('saves', 0.8040894269943237), ('months', 0.6550357341766357), ('industry', 0.6398235559463501)]\n"
          ],
          "name": "stdout"
        },
        {
          "output_type": "stream",
          "text": [
            "/usr/local/lib/python3.6/dist-packages/ipykernel_launcher.py:2: DeprecationWarning: Call to deprecated `most_similar` (Method will be removed in 4.0.0, use self.wv.most_similar() instead).\n",
            "  \n",
            "/usr/local/lib/python3.6/dist-packages/gensim/matutils.py:737: FutureWarning: Conversion of the second argument of issubdtype from `int` to `np.signedinteger` is deprecated. In future, it will be treated as `np.int64 == np.dtype(int).type`.\n",
            "  if np.issubdtype(vec.dtype, np.int):\n"
          ],
          "name": "stderr"
        }
      ]
    },
    {
      "cell_type": "markdown",
      "metadata": {
        "id": "rommL3qVaOhM"
      },
      "source": [
        "<h3><font color='green'><b>I am sure !! </b></font> </h3>\n",
        "\n",
        "By now you are familiar and comfortable with processing the natural language. Now that data is cleaned and features are created,let’s jump into building some applications around it that solves the business problem; in the <b>upcoming NB's</b>.\n",
        "\n",
        "<font color='green'>Before Moving ahead <b>I would highly recommend</b> all watching this you tube <u><b>video</b></u> :</font> <br> https://www.youtube.com/watch?v=LSS_bos_TPI\n",
        "\n",
        "<b>This would further clarify concept of Word Embeddings.</b>\n",
        "\n",
        "<hr>"
      ]
    },
    {
      "cell_type": "markdown",
      "metadata": {
        "id": "88V9XH1EBHpV"
      },
      "source": [
        "**Just in case**\n",
        "\n",
        "You would love to explore **Stanford’s GloVe Embedding**  , very similar to above libraries :\n",
        "\n",
        "https://machinelearningmastery.com/develop-word-embeddings-python-gensim/\n",
        "\n",
        "<hr>\n",
        "<br><br>\n",
        "<u><b>Further Resources</b></u> :\n",
        "\n",
        "https://machinelearningmastery.com/prepare-text-data-machine-learning-scikit-learn/\n",
        "\n",
        "https://datascience.stackexchange.com/questions/22250/what-is-the-difference-between-a-hashing-vectorizer"
      ]
    }
  ]
}