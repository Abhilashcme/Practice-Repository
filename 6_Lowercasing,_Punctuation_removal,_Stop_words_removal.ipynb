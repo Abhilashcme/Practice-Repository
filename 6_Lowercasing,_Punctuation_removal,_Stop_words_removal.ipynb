{
  "nbformat": 4,
  "nbformat_minor": 0,
  "metadata": {
    "kernelspec": {
      "display_name": "Python 3",
      "language": "python",
      "name": "python3"
    },
    "language_info": {
      "codemirror_mode": {
        "name": "ipython",
        "version": 3
      },
      "file_extension": ".py",
      "mimetype": "text/x-python",
      "name": "python",
      "nbconvert_exporter": "python",
      "pygments_lexer": "ipython3",
      "version": "3.6.8"
    },
    "colab": {
      "name": "6_Lowercasing, Punctuation removal, Stop words removal.ipynb",
      "provenance": [],
      "collapsed_sections": [],
      "include_colab_link": true
    }
  },
  "cells": [
    {
      "cell_type": "markdown",
      "metadata": {
        "id": "view-in-github",
        "colab_type": "text"
      },
      "source": [
        "<a href=\"https://colab.research.google.com/github/Abhilashcme/Practice-Repository/blob/master/6_Lowercasing%2C_Punctuation_removal%2C_Stop_words_removal.ipynb\" target=\"_parent\"><img src=\"https://colab.research.google.com/assets/colab-badge.svg\" alt=\"Open In Colab\"/></a>"
      ]
    },
    {
      "cell_type": "markdown",
      "metadata": {
        "id": "qlOi6Fi3pALz"
      },
      "source": [
        "<img src=\"https://drive.google.com/uc?id=1EDzi7oF5DS-w1znV80aU8Gez9LhACHSn\">"
      ]
    },
    {
      "cell_type": "markdown",
      "metadata": {
        "id": "IN7WB4XgoKyt"
      },
      "source": [
        "Lowercasing, Punctuation removal, Stop words removal\n",
        "--------------------------------------------------------------------------------\n",
        "\n",
        "A> Converting Text Data to Lowercase\n",
        "-------------------------------------------------------\n",
        "In this code, we are going to discuss how to lowercase the text data in\n",
        "order to have all the data in a uniform format and to make sure “NLP” and\n",
        "“nlp” are treated as the same.\n",
        "\n",
        "Problem\n",
        "------------\n",
        "How to lowercase the text data?\n",
        "\n",
        "Solution\n",
        "------------\n",
        "The simplest way to do this is by using the default lower() function in\n",
        "Python.\n",
        "\n",
        "The lower() method converts all uppercase characters in a string into\n",
        "lowercase characters and returns them."
      ]
    },
    {
      "cell_type": "code",
      "metadata": {
        "id": "jP8aMDawoKyw",
        "colab": {
          "base_uri": "https://localhost:8080/",
          "height": 173
        },
        "outputId": "21e60ef4-5f3e-4f95-9a78-569dbbd47a0b"
      },
      "source": [
        "text=['This is introduction to NLP','It is likely to be useful, to people ','Machine learning is the new electrcity','There would be less hype around AI and more action going forward','python is the best tool!','R is good langauage','I like this book','I want more books like this']\n",
        "\n",
        "#convert list to data frame\n",
        "import pandas as pd\n",
        "df = pd.DataFrame({'tweet':text})\n",
        "print(df)"
      ],
      "execution_count": null,
      "outputs": [
        {
          "output_type": "stream",
          "text": [
            "                                               tweet\n",
            "0                        This is introduction to NLP\n",
            "1              It is likely to be useful, to people \n",
            "2             Machine learning is the new electrcity\n",
            "3  There would be less hype around AI and more ac...\n",
            "4                           python is the best tool!\n",
            "5                                R is good langauage\n",
            "6                                   I like this book\n",
            "7                        I want more books like this\n"
          ],
          "name": "stdout"
        }
      ]
    },
    {
      "cell_type": "code",
      "metadata": {
        "id": "83S1naf4oKy6",
        "colab": {
          "base_uri": "https://localhost:8080/",
          "height": 35
        },
        "outputId": "6c0ed3a2-b782-456d-a2ab-0698d0ebee9d"
      },
      "source": [
        "# Execute lower() function on the text data\n",
        "# When there is just the string, apply the lower() function directly as shown below:\n",
        "x = 'Testing'\n",
        "x2 = x.lower()\n",
        "print(x2)\n",
        "\n",
        "# but we cannot directly apply the lower() on a dataframe !!!"
      ],
      "execution_count": null,
      "outputs": [
        {
          "output_type": "stream",
          "text": [
            "testing\n"
          ],
          "name": "stdout"
        }
      ]
    },
    {
      "cell_type": "code",
      "metadata": {
        "id": "p35dgjWmoKy_",
        "colab": {
          "base_uri": "https://localhost:8080/",
          "height": 173
        },
        "outputId": "68d040ef-dfb6-4bc3-8180-4cb77c520132"
      },
      "source": [
        "# When you want to perform lowercasing on a data frame, \n",
        "# use the apply function as shown below:\n",
        "df['tweet'] = df['tweet'].apply(lambda x: \" \".join(x.lower() for x in x.split()))\n",
        "df['tweet']"
      ],
      "execution_count": null,
      "outputs": [
        {
          "output_type": "execute_result",
          "data": {
            "text/plain": [
              "0                          this is introduction to nlp\n",
              "1                 it is likely to be useful, to people\n",
              "2               machine learning is the new electrcity\n",
              "3    there would be less hype around ai and more ac...\n",
              "4                             python is the best tool!\n",
              "5                                  r is good langauage\n",
              "6                                     i like this book\n",
              "7                          i want more books like this\n",
              "Name: tweet, dtype: object"
            ]
          },
          "metadata": {
            "tags": []
          },
          "execution_count": 3
        }
      ]
    },
    {
      "cell_type": "markdown",
      "metadata": {
        "id": "p9wJ__UyoKzE"
      },
      "source": [
        "B> Removing Punctuation\n",
        "---------------------------------\n",
        "In this code, we are going to discuss how to remove punctuation from the\n",
        "text data. This step is very important as punctuation doesn’t add any extra\n",
        "information or value. Hence removal of all such instances will help reduce\n",
        "the size of the data and increase computational efficiency.\n",
        "\n",
        "Problem\n",
        "------------\n",
        "You want to remove punctuation from the text data.\n",
        "\n",
        "Solution\n",
        "------------\n",
        "The simplest way to do this is by using the regex and replace() function in\n",
        "Python."
      ]
    },
    {
      "cell_type": "code",
      "metadata": {
        "id": "IY5ouNJboKzF",
        "outputId": "e285788e-0539-40fb-f8a1-4594a0117c42"
      },
      "source": [
        "text=['This is introduction to NLP','It is likely to be useful, to people ','Machine learning is the new electrcity', 'There would be less hype around AI and more action going forward','python is the best tool!','R is good langauage', 'I like this book','I want more books like this']\n",
        "\n",
        "# convert list to dataframe\n",
        "## type your code here\n",
        "\n",
        "\n",
        "\n"
      ],
      "execution_count": null,
      "outputs": [
        {
          "output_type": "stream",
          "text": [
            "                                               tweet\n",
            "0                        This is introduction to NLP\n",
            "1              It is likely to be useful, to people \n",
            "2             Machine learning is the new electrcity\n",
            "3  There would be less hype around AI and more ac...\n",
            "4                           python is the best tool!\n",
            "5                                R is good langauage\n",
            "6                                   I like this book\n",
            "7                        I want more books like this\n"
          ],
          "name": "stdout"
        }
      ]
    },
    {
      "cell_type": "code",
      "metadata": {
        "id": "LUUOE6YdoKzK",
        "outputId": "e2aad461-967a-4786-f661-cd5622c784ef"
      },
      "source": [
        "# using regex and replace() function, we can remove the punctuation\n",
        "\n",
        "## type your code here\n",
        "\n",
        "\n",
        "\n",
        "\n"
      ],
      "execution_count": null,
      "outputs": [
        {
          "output_type": "execute_result",
          "data": {
            "text/plain": [
              "'I like This book'"
            ]
          },
          "metadata": {
            "tags": []
          },
          "execution_count": 6
        }
      ]
    },
    {
      "cell_type": "code",
      "metadata": {
        "id": "Nt75CVrvoKzP",
        "outputId": "83e4d5b1-19b5-4702-d941-bb7daeb0dc6a"
      },
      "source": [
        "# Or:\n",
        "## type your code here\n",
        "\n",
        "\n"
      ],
      "execution_count": null,
      "outputs": [
        {
          "output_type": "execute_result",
          "data": {
            "text/plain": [
              "0                          This is introduction to NLP\n",
              "1                 It is likely to be useful to people \n",
              "2               Machine learning is the new electrcity\n",
              "3    There would be less hype around AI and more ac...\n",
              "4                              python is the best tool\n",
              "5                                  R is good langauage\n",
              "6                                     I like this book\n",
              "7                          I want more books like this\n",
              "Name: tweet, dtype: object"
            ]
          },
          "metadata": {
            "tags": []
          },
          "execution_count": 8
        }
      ]
    },
    {
      "cell_type": "code",
      "metadata": {
        "id": "qVjeHaNcoKzT",
        "outputId": "27d4b8c9-1124-4428-a13e-44ef19293a09"
      },
      "source": [
        "# Or:\n",
        "## type your code here\n",
        "\n",
        "\n",
        "\n"
      ],
      "execution_count": null,
      "outputs": [
        {
          "output_type": "execute_result",
          "data": {
            "text/plain": [
              "'I like This book'"
            ]
          },
          "metadata": {
            "tags": []
          },
          "execution_count": 10
        }
      ]
    },
    {
      "cell_type": "markdown",
      "metadata": {
        "id": "jMu091nDoKzb"
      },
      "source": [
        "C> Removing Stop Words\n",
        "---------------------------------\n",
        "\n",
        "In this coding example, we are going to discuss how to remove stop words. \n",
        "\n",
        "Stop words are very common words that carry no meaning or less meaning compared\n",
        "to other keywords. If we remove the words that are less commonly used,\n",
        "we can focus on the important keywords instead. Say, for example, in the\n",
        "context of a search engine, if your search query is “How to develop chatbot\n",
        "using python,” if the search engine tries to find web pages that contained the\n",
        "terms “how,” “to,” “develop,” “chatbot,” “using,” “python,” the search engine\n",
        "is going to find a lot more pages that contain the terms “how” and “to” than\n",
        "pages that contain information about developing chatbot because the terms\n",
        "“how” and “to” are so commonly used in the English language. So, if we\n",
        "remove such terms, the search engine can actually focus on retrieving pages\n",
        "that contain the keywords: “develop,” “chatbot,” “python” – which would\n",
        "more closely bring up pages that are of real interest. Similarly we can remove\n",
        "more common words and rare words as well."
      ]
    },
    {
      "cell_type": "markdown",
      "metadata": {
        "id": "4ut1IT34oKzd"
      },
      "source": [
        "Problem\n",
        "------------\n",
        "You want to remove stop words.\n",
        "\n",
        "Solution\n",
        "------------\n",
        "The simplest way to do this by using the NLTK library, or you can build\n",
        "your own stop words file also."
      ]
    },
    {
      "cell_type": "code",
      "metadata": {
        "id": "Gh_FY_qPoKzh",
        "colab": {
          "base_uri": "https://localhost:8080/",
          "height": 173
        },
        "outputId": "01f538aa-0ea9-4111-ad66-56dbd7acab8a"
      },
      "source": [
        "text=['This is introduction to NLP','It is likely to be useful, to people ','Machine learning is the new electrcity', 'There would be less hype around AI and more action going forward','python is the best tool!','R is good langauage','I like this book','I want more books like this']\n",
        "\n",
        "#convert list to data frame\n",
        "import pandas as pd\n",
        "df = pd.DataFrame({'tweet':text})\n",
        "print(df)"
      ],
      "execution_count": null,
      "outputs": [
        {
          "output_type": "stream",
          "text": [
            "                                               tweet\n",
            "0                        This is introduction to NLP\n",
            "1              It is likely to be useful, to people \n",
            "2             Machine learning is the new electrcity\n",
            "3  There would be less hype around AI and more ac...\n",
            "4                           python is the best tool!\n",
            "5                                R is good langauage\n",
            "6                                   I like this book\n",
            "7                        I want more books like this\n"
          ],
          "name": "stdout"
        }
      ]
    },
    {
      "cell_type": "code",
      "metadata": {
        "id": "WymryHNnoKzl",
        "colab": {
          "base_uri": "https://localhost:8080/",
          "height": 208
        },
        "outputId": "95605687-42a3-468d-d536-0cd45f64e812"
      },
      "source": [
        "#install and import libraries\n",
        "#!pip install nltk\n",
        "\n",
        "import nltk\n",
        "nltk.download('stopwords')\n",
        "\n",
        "#remove stop words\n",
        "stop = stopwords.words('english')\n",
        "df['tweet'] = df['tweet'].apply(lambda x: \" \".join(x for x in x.split() if x not in stop))\n",
        "print(df['tweet'])"
      ],
      "execution_count": null,
      "outputs": [
        {
          "output_type": "stream",
          "text": [
            "[nltk_data] Downloading package stopwords to /root/nltk_data...\n",
            "[nltk_data]   Unzipping corpora/stopwords.zip.\n",
            "0                                This introduction NLP\n",
            "1                             It likely useful, people\n",
            "2                      Machine learning new electrcity\n",
            "3    There would less hype around AI action going f...\n",
            "4                                    python best tool!\n",
            "5                                     R good langauage\n",
            "6                                          I like book\n",
            "7                                    I want books like\n",
            "Name: tweet, dtype: object\n"
          ],
          "name": "stdout"
        }
      ]
    },
    {
      "cell_type": "markdown",
      "metadata": {
        "id": "zxuN3BwzBK85"
      },
      "source": [
        "Self to do excerises in class\n",
        "----"
      ]
    },
    {
      "cell_type": "markdown",
      "metadata": {
        "id": "v75EtHpqBMRq"
      },
      "source": [
        "1> find the frequency or count of the non stop words and rank them in descending order. Use the above df['tweet']"
      ]
    },
    {
      "cell_type": "code",
      "metadata": {
        "id": "rwZbn8KpBRim",
        "colab": {
          "base_uri": "https://localhost:8080/",
          "height": 35
        },
        "outputId": "3e1861c8-70c2-4e36-be43-e903e7fc11d1"
      },
      "source": [
        "# version 1 : Explains how to solve the above problem.\n",
        "from collections import Counter\n",
        "cnt = Counter()\n",
        "for word in ['red', 'blue', 'red', 'green', 'blue', 'blue']:\n",
        "  cnt[word] += 1\n",
        "\n",
        "cnt"
      ],
      "execution_count": null,
      "outputs": [
        {
          "output_type": "execute_result",
          "data": {
            "text/plain": [
              "Counter({'blue': 3, 'green': 1, 'red': 2})"
            ]
          },
          "metadata": {
            "tags": []
          },
          "execution_count": 1
        }
      ]
    },
    {
      "cell_type": "code",
      "metadata": {
        "id": "XkEKAVCQBvGm",
        "colab": {
          "base_uri": "https://localhost:8080/",
          "height": 35
        },
        "outputId": "6aa72f4a-e0b2-467f-82f2-68a963ae8201"
      },
      "source": [
        "# be careful. We don't want alphabical sorting !!!!! \n",
        "sorted(cnt.items())"
      ],
      "execution_count": null,
      "outputs": [
        {
          "output_type": "execute_result",
          "data": {
            "text/plain": [
              "[('blue', 3), ('green', 1), ('red', 2)]"
            ]
          },
          "metadata": {
            "tags": []
          },
          "execution_count": 2
        }
      ]
    },
    {
      "cell_type": "code",
      "metadata": {
        "id": "i-Bh2i3KBzew",
        "colab": {
          "base_uri": "https://localhost:8080/",
          "height": 35
        },
        "outputId": "ca29f0d8-8fd5-43a8-daf3-c6663b7905b4"
      },
      "source": [
        "# For reverse alphabetical sorting !!!!! \n",
        "sorted(cnt.items(), reverse=True)"
      ],
      "execution_count": null,
      "outputs": [
        {
          "output_type": "execute_result",
          "data": {
            "text/plain": [
              "[('red', 2), ('green', 1), ('blue', 3)]"
            ]
          },
          "metadata": {
            "tags": []
          },
          "execution_count": 3
        }
      ]
    },
    {
      "cell_type": "code",
      "metadata": {
        "id": "Yly-HB-UB6oH",
        "colab": {
          "base_uri": "https://localhost:8080/",
          "height": 35
        },
        "outputId": "308945eb-28cc-476d-e0f4-5b2962dd15e5"
      },
      "source": [
        "# Solution : to print the list of tuples in reverse order according to count\n",
        "l = cnt.items()\n",
        "sorted(l, key = lambda item: item[1], reverse=True)"
      ],
      "execution_count": null,
      "outputs": [
        {
          "output_type": "execute_result",
          "data": {
            "text/plain": [
              "[('blue', 3), ('red', 2), ('green', 1)]"
            ]
          },
          "metadata": {
            "tags": []
          },
          "execution_count": 4
        }
      ]
    },
    {
      "cell_type": "code",
      "metadata": {
        "id": "mLN7Jo9ICD5D",
        "colab": {
          "base_uri": "https://localhost:8080/",
          "height": 35
        },
        "outputId": "6908e4eb-a3b9-429a-d3f9-317ba234bcc0"
      },
      "source": [
        "# Counter class can directly read from iterable object. No need of FOR loop \n",
        "# Counter takes iterable object like a list or set, hence recode above like this\n",
        "mywords = ['red', 'blue', 'red', 'green', 'blue', 'blue']\n",
        "cnt = Counter(mywords)\n",
        "\n",
        "cnt"
      ],
      "execution_count": null,
      "outputs": [
        {
          "output_type": "execute_result",
          "data": {
            "text/plain": [
              "Counter({'blue': 3, 'green': 1, 'red': 2})"
            ]
          },
          "metadata": {
            "tags": []
          },
          "execution_count": 5
        }
      ]
    },
    {
      "cell_type": "code",
      "metadata": {
        "id": "pxmJILkiCFnh",
        "colab": {
          "base_uri": "https://localhost:8080/",
          "height": 644
        },
        "outputId": "d8fe18ab-7782-4cb0-f17d-2ce5c97cb309"
      },
      "source": [
        "# Version-2 : Not using Counter class\n",
        "\n",
        "wordstring = 'it was the best of times it was the worst of times '\n",
        "wordstring += 'it was the age of wisdom it was the age of foolishness'\n",
        "\n",
        "wordlist = wordstring.split()\n",
        "\n",
        "wordfreq = []\n",
        "for w in wordlist:\n",
        "    wordfreq.append(wordlist.count(w))\n",
        "\n",
        "print(\"String\\n\" + wordstring +\"\\n\")\n",
        "print(\"List\\n\" + str(wordlist) + \"\\n\")\n",
        "print(\"Frequencies\\n\" + str(wordfreq) + \"\\n\")\n",
        "print(\"Pairs\\n\" + str(zip(wordlist, wordfreq))) # it would only print the object\n",
        "\n",
        "# Recall from Python Course : to print contents of zip object \n",
        "# convert to list or set\n",
        "list(zip(wordlist, wordfreq))"
      ],
      "execution_count": null,
      "outputs": [
        {
          "output_type": "stream",
          "text": [
            "String\n",
            "it was the best of times it was the worst of times it was the age of wisdom it was the age of foolishness\n",
            "\n",
            "List\n",
            "['it', 'was', 'the', 'best', 'of', 'times', 'it', 'was', 'the', 'worst', 'of', 'times', 'it', 'was', 'the', 'age', 'of', 'wisdom', 'it', 'was', 'the', 'age', 'of', 'foolishness']\n",
            "\n",
            "Frequencies\n",
            "[4, 4, 4, 1, 4, 2, 4, 4, 4, 1, 4, 2, 4, 4, 4, 2, 4, 1, 4, 4, 4, 2, 4, 1]\n",
            "\n",
            "Pairs\n",
            "<zip object at 0x7f19c6392c08>\n"
          ],
          "name": "stdout"
        },
        {
          "output_type": "execute_result",
          "data": {
            "text/plain": [
              "[('it', 4),\n",
              " ('was', 4),\n",
              " ('the', 4),\n",
              " ('best', 1),\n",
              " ('of', 4),\n",
              " ('times', 2),\n",
              " ('it', 4),\n",
              " ('was', 4),\n",
              " ('the', 4),\n",
              " ('worst', 1),\n",
              " ('of', 4),\n",
              " ('times', 2),\n",
              " ('it', 4),\n",
              " ('was', 4),\n",
              " ('the', 4),\n",
              " ('age', 2),\n",
              " ('of', 4),\n",
              " ('wisdom', 1),\n",
              " ('it', 4),\n",
              " ('was', 4),\n",
              " ('the', 4),\n",
              " ('age', 2),\n",
              " ('of', 4),\n",
              " ('foolishness', 1)]"
            ]
          },
          "metadata": {
            "tags": []
          },
          "execution_count": 6
        }
      ]
    },
    {
      "cell_type": "code",
      "metadata": {
        "id": "jbMDvknMCY5f",
        "colab": {
          "base_uri": "https://localhost:8080/",
          "height": 69
        },
        "outputId": "f57e8922-631f-4823-cec8-0ab6f679b38b"
      },
      "source": [
        "# all concepts clear.\n",
        "# Now focusing on our problem df['tweet']\n",
        "\n",
        "import nltk\n",
        "from nltk.corpus import stopwords\n",
        "nltk.download('stopwords')\n",
        "\n",
        "# removing all punctuation marks \n",
        "df['tweet'] = df['tweet'].str.replace('[^\\w\\s]','')\n",
        "\n",
        "# convert all words to the lower case\n",
        "df['tweet'] = df['tweet'].apply(lambda x: \" \".join(x.lower() for x in x.split()))\n",
        "\n",
        "# remove stop words\n",
        "stop = stopwords.words('english')\n",
        "df['tweet'] = df['tweet'].apply(lambda x: \" \".join(x for x in x.split() if x not in stop))\n",
        "\n",
        "# converting df to list of string\n",
        "\n",
        "\n",
        "\n",
        "all_split_words = []\n",
        "\n",
        "print(\"----------------------------------------\")\n",
        "\n",
        "# extracting each word and making a single list of strings\n",
        " \n",
        "\n",
        "\n",
        "\n",
        "# see the list of all string words\n",
        "\n",
        "\n",
        "\n",
        "# Create a frequency distribution. it needs a list of string words only.\n",
        "\n",
        "\n",
        "\n",
        "# Show the words in the list, with counts in desc order.\n",
        "\n"
      ],
      "execution_count": null,
      "outputs": [
        {
          "output_type": "stream",
          "text": [
            "[nltk_data] Downloading package stopwords to /root/nltk_data...\n",
            "[nltk_data]   Package stopwords is already up-to-date!\n",
            "----------------------------------------\n"
          ],
          "name": "stdout"
        }
      ]
    },
    {
      "cell_type": "markdown",
      "metadata": {
        "id": "us1nO0_kwCL4"
      },
      "source": [
        "**`Just in Case`**\n",
        "\n",
        "You may like to explore the NLTK docs : <br>\n",
        "https://www.nltk.org/"
      ]
    }
  ]
}