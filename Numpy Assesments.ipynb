{
 "cells": [
  {
   "cell_type": "markdown",
   "metadata": {},
   "source": [
    "1. Create a 5X2 integer array from a range between 100 to 200 such that the difference between each element is 10¶"
   ]
  },
  {
   "cell_type": "code",
   "execution_count": 2,
   "metadata": {},
   "outputs": [],
   "source": [
    "import numpy as np\n"
   ]
  },
  {
   "cell_type": "code",
   "execution_count": 4,
   "metadata": {},
   "outputs": [
    {
     "data": {
      "text/plain": [
       "array([[100, 110],\n",
       "       [120, 130],\n",
       "       [140, 150],\n",
       "       [160, 170],\n",
       "       [180, 190]])"
      ]
     },
     "execution_count": 4,
     "metadata": {},
     "output_type": "execute_result"
    }
   ],
   "source": [
    "np.arange(100,200,10).reshape(5,2)"
   ]
  },
  {
   "cell_type": "markdown",
   "metadata": {},
   "source": [
    "2. Write a NumPy program to create a 3x3x3 array filled with arbitrary values and find the minimum and maximum values."
   ]
  },
  {
   "cell_type": "code",
   "execution_count": 5,
   "metadata": {},
   "outputs": [
    {
     "name": "stdout",
     "output_type": "stream",
     "text": [
      "[[[0.44860637 0.59296664 0.2405692 ]\n",
      "  [0.62747223 0.67827372 0.70362798]\n",
      "  [0.54943309 0.58324859 0.36436333]]\n",
      "\n",
      " [[0.23631353 0.4515198  0.04844675]\n",
      "  [0.02003461 0.38757139 0.65219898]\n",
      "  [0.63284203 0.39549301 0.62883456]]\n",
      "\n",
      " [[0.66181486 0.35967831 0.50571594]\n",
      "  [0.63556741 0.41134628 0.21644958]\n",
      "  [0.97482283 0.01757348 0.54449011]]]\n",
      "Min :  0.017573479529162772\n",
      "Max :  0.9748228299654745\n"
     ]
    }
   ],
   "source": [
    "arr=np.random.random((3, 3, 3))\n",
    "print(arr)\n",
    "print('Min : ',arr.min())\n",
    "print('Max : ',arr.max())"
   ]
  },
  {
   "cell_type": "markdown",
   "metadata": {},
   "source": [
    "3. Write a NumPy program to create a 5x5 zero matrix with elements on the main diagonal equal to 1, 2, 3, 4, 5."
   ]
  },
  {
   "cell_type": "code",
   "execution_count": 6,
   "metadata": {},
   "outputs": [
    {
     "data": {
      "text/plain": [
       "array([[1, 0, 0, 0, 0],\n",
       "       [0, 2, 0, 0, 0],\n",
       "       [0, 0, 3, 0, 0],\n",
       "       [0, 0, 0, 4, 0],\n",
       "       [0, 0, 0, 0, 5]])"
      ]
     },
     "execution_count": 6,
     "metadata": {},
     "output_type": "execute_result"
    }
   ],
   "source": [
    "np.diag([1, 2, 3, 4, 5])"
   ]
  },
  {
   "cell_type": "markdown",
   "metadata": {},
   "source": [
    "4. Given an array\n",
    "arr = np.array([0, 1, 2, 3, 4, 5, 6, 7, 8, 9\n",
    "i) Extract all odd numbers from arr\n",
    "ii) Replace all odd numbers in arr with -1"
   ]
  },
  {
   "cell_type": "code",
   "execution_count": 7,
   "metadata": {},
   "outputs": [
    {
     "name": "stdout",
     "output_type": "stream",
     "text": [
      "[0 1 2 3 4 5 6 7 8 9]\n",
      "Odd numbers array:  [1 3 5 7 9]\n",
      "Odd numbers relaced with -1:  [ 0 -1  2 -1  4 -1  6 -1  8 -1]\n"
     ]
    }
   ],
   "source": [
    "arr = np.array([0, 1, 2, 3, 4, 5, 6, 7, 8, 9])\n",
    "print(arr)\n",
    "print('Odd numbers array: ',arr[arr%2!=0])\n",
    "arr[arr%2!=0] = -1\n",
    "print('Odd numbers relaced with -1: ',arr)"
   ]
  },
  {
   "cell_type": "markdown",
   "metadata": {},
   "source": [
    "Write a NumPy program to create a 3x3 identity matrix, i.e. diagonal elements are 1,the rest are 0."
   ]
  },
  {
   "cell_type": "code",
   "execution_count": 8,
   "metadata": {},
   "outputs": [
    {
     "data": {
      "text/plain": [
       "array([[1., 0., 0.],\n",
       "       [0., 1., 0.],\n",
       "       [0., 0., 1.]])"
      ]
     },
     "execution_count": 8,
     "metadata": {},
     "output_type": "execute_result"
    }
   ],
   "source": [
    "np.identity(3)"
   ]
  },
  {
   "cell_type": "markdown",
   "metadata": {},
   "source": [
    "Write a NumPy program to convert an array to a float type."
   ]
  },
  {
   "cell_type": "code",
   "execution_count": 10,
   "metadata": {},
   "outputs": [
    {
     "data": {
      "text/plain": [
       "array([1., 2., 3., 4.])"
      ]
     },
     "execution_count": 10,
     "metadata": {},
     "output_type": "execute_result"
    }
   ],
   "source": [
    "np.array([1, 2, 3, 4],dtype='float')"
   ]
  },
  {
   "cell_type": "markdown",
   "metadata": {},
   "source": [
    "Write a NumPy program to generate five random numbers from the normal distribution."
   ]
  },
  {
   "cell_type": "code",
   "execution_count": 11,
   "metadata": {},
   "outputs": [
    {
     "data": {
      "text/plain": [
       "array([-1.20343972,  0.40008719,  0.24116694,  1.39462064, -0.38452431])"
      ]
     },
     "execution_count": 11,
     "metadata": {},
     "output_type": "execute_result"
    }
   ],
   "source": [
    "np.random.randn(5)"
   ]
  },
  {
   "cell_type": "markdown",
   "metadata": {},
   "source": [
    "8. Following is the input NumPy array delete column two and insert following new column in its place.\n",
    "sampleArray=numpy.array([[34,43,73],[82,22,12],[53,94,66]])\n",
    "newColumn = numpy.array([[10,10,10]])"
   ]
  },
  {
   "cell_type": "code",
   "execution_count": 13,
   "metadata": {},
   "outputs": [
    {
     "data": {
      "text/plain": [
       "array([[34, 43, 10],\n",
       "       [82, 22, 10],\n",
       "       [53, 94, 10]])"
      ]
     },
     "execution_count": 13,
     "metadata": {},
     "output_type": "execute_result"
    }
   ],
   "source": [
    "sampleArray=np.array([[34,43,73],[82,22,12],[53,94,66]])\n",
    "newColumn = np.array([[10,10,10]])\n",
    "sampleArray[:, 2]=newColumn\n",
    "sampleArray"
   ]
  },
  {
   "cell_type": "markdown",
   "metadata": {},
   "source": [
    "Write a NumPy program to compute the multiplication of two given matrices."
   ]
  },
  {
   "cell_type": "code",
   "execution_count": 17,
   "metadata": {},
   "outputs": [
    {
     "name": "stdout",
     "output_type": "stream",
     "text": [
      "original matrix:\n",
      "[[2, 4], [0, 1]]\n",
      "[[1, 3], [5, 4]]\n",
      "Result of the said matrix multiplication:\n",
      "[[22 22]\n",
      " [ 5  4]]\n"
     ]
    }
   ],
   "source": [
    "p = [[2, 4], [0, 1]]\n",
    "q = [[1, 3], [5, 4]]\n",
    "print(\"original matrix:\")\n",
    "print(p)\n",
    "print(q)\n",
    "result1 = np.dot(p, q)\n",
    "print(\"Result of the said matrix multiplication:\")\n",
    "print(result1)\n"
   ]
  },
  {
   "cell_type": "markdown",
   "metadata": {},
   "source": [
    "### 10. Write a NumPy program to create a random vector of size 10 and sort it."
   ]
  },
  {
   "cell_type": "code",
   "execution_count": 18,
   "metadata": {},
   "outputs": [
    {
     "data": {
      "text/plain": [
       "array([ 1, 14, 16, 18, 20, 22, 34, 35, 37, 39])"
      ]
     },
     "execution_count": 18,
     "metadata": {},
     "output_type": "execute_result"
    }
   ],
   "source": [
    "np.sort(np.random.randint(1,50,size=10))"
   ]
  },
  {
   "cell_type": "markdown",
   "metadata": {},
   "source": [
    "### 11. Write a NumPy program to compute the covariance matrix of two arrays."
   ]
  },
  {
   "cell_type": "code",
   "execution_count": 20,
   "metadata": {},
   "outputs": [
    {
     "name": "stdout",
     "output_type": "stream",
     "text": [
      "[2 4 4]\n",
      "[4 7 1]\n",
      "Covariance matrix:\n",
      " [[1.33333333 0.        ]\n",
      " [0.         9.        ]]\n"
     ]
    }
   ],
   "source": [
    "num1 =np.random.randint(1,7,size=3)\n",
    "num2 =np.random.randint(1,8,size=3)\n",
    "print(num1)\n",
    "print(num2)\n",
    "print('Covariance matrix:\\n',np.cov(num1,num2))"
   ]
  },
  {
   "cell_type": "markdown",
   "metadata": {},
   "source": [
    "### 12.Create a 4X2 integer array and Prints its :\n",
    "- i)The shape of an array.\n",
    "- ii) Array dimensions.\n",
    "- iii) The Length of each element of the array in bytes"
   ]
  },
  {
   "cell_type": "code",
   "execution_count": 23,
   "metadata": {},
   "outputs": [
    {
     "name": "stdout",
     "output_type": "stream",
     "text": [
      "(4, 2)\n",
      "2\n",
      "32\n"
     ]
    }
   ],
   "source": [
    "arr1 =np.random.randint(1,10,size=[4,2])\n",
    "print(arr1.shape)\n",
    "print(arr1.ndim)\n",
    "print(arr1.nbytes)"
   ]
  },
  {
   "cell_type": "markdown",
   "metadata": {},
   "source": [
    "Write a NumPy program to concatenate element-wise two arrays of string."
   ]
  },
  {
   "cell_type": "code",
   "execution_count": 24,
   "metadata": {},
   "outputs": [
    {
     "name": "stdout",
     "output_type": "stream",
     "text": [
      "['ax' 'by' 'cz']\n"
     ]
    }
   ],
   "source": [
    "arr1=np.array(['a','b','c'])\n",
    "arr2=np.array(['x','y','z'])\n",
    "print( np.char.add(arr1,arr2))"
   ]
  },
  {
   "cell_type": "markdown",
   "metadata": {},
   "source": [
    "### 14. Write a NumPy program to capitalize the first letter, lowercase, uppercase, swapcase, title-case of all the elements of a given array."
   ]
  },
  {
   "cell_type": "code",
   "execution_count": 25,
   "metadata": {},
   "outputs": [
    {
     "name": "stdout",
     "output_type": "stream",
     "text": [
      "['Abhilash' 'Anu' 'Geetha' 'Koshin']\n",
      "['abhilash' 'anu' 'geetha' 'koshin']\n",
      "['ABHILASH' 'ANU' 'GEETHA' 'KOSHIN']\n",
      "['aBHILASH' 'aNU' 'gEETHA' 'kOSHIN']\n",
      "['Abhilash' 'Anu' 'Geetha' 'Koshin']\n"
     ]
    }
   ],
   "source": [
    "arr1=np.array(['Abhilash','Anu','Geetha','Koshin'])\n",
    "print (np.char.capitalize(arr1))\n",
    "print (np.char.lower(arr1))\n",
    "print (np.char.upper(arr1))\n",
    "print (np.char.swapcase(arr1))\n",
    "print (np.char.title(arr1))"
   ]
  },
  {
   "cell_type": "markdown",
   "metadata": {},
   "source": [
    "### 15. Write a NumPy program to convert a given array into a list."
   ]
  },
  {
   "cell_type": "code",
   "execution_count": 26,
   "metadata": {},
   "outputs": [
    {
     "name": "stdout",
     "output_type": "stream",
     "text": [
      "Numpy Array:\n",
      " [[0 1]\n",
      " [2 3]\n",
      " [4 5]\n",
      " [6 7]\n",
      " [8 9]]\n",
      "List:\n",
      " [[0, 1], [2, 3], [4, 5], [6, 7], [8, 9]]\n"
     ]
    }
   ],
   "source": [
    "arr=np.arange(0,10).reshape(5,2)\n",
    "print('Numpy Array:\\n',arr)\n",
    "print('List:\\n',arr.tolist())"
   ]
  },
  {
   "cell_type": "markdown",
   "metadata": {},
   "source": [
    "### 16. Write a NumPy program to compute the sum of all elements,  sum of each column and sum of each row of a given array."
   ]
  },
  {
   "cell_type": "code",
   "execution_count": 27,
   "metadata": {},
   "outputs": [
    {
     "name": "stdout",
     "output_type": "stream",
     "text": [
      "Array:\n",
      " [[ 4 13 10]\n",
      " [16 11  1]\n",
      " [12  1 16]\n",
      " [15 15 12]]\n",
      "Sum of all elements:\n",
      " 126\n",
      "sum of each column:\n",
      " [47 40 39]\n",
      "sum of each row:\n",
      " [27 28 29 42]\n"
     ]
    }
   ],
   "source": [
    "arr =np.random.randint(1,20,size=[4,3])\n",
    "print('Array:\\n',arr)\n",
    "print('Sum of all elements:\\n',np.sum(arr))\n",
    "print('sum of each column:\\n',np.sum(arr,axis=0))\n",
    "print('sum of each row:\\n',np.sum(arr,axis=1))"
   ]
  },
  {
   "cell_type": "markdown",
   "metadata": {},
   "source": [
    "### 17. Write a NumPy program to create a random 10x4 array and extract the first five rows of the array and store them into a variable."
   ]
  },
  {
   "cell_type": "code",
   "execution_count": 28,
   "metadata": {},
   "outputs": [
    {
     "name": "stdout",
     "output_type": "stream",
     "text": [
      "Original array:\n",
      " [[15 24 14 38]\n",
      " [20 32 36  0]\n",
      " [20 28 22 36]\n",
      " [37 22 24 29]\n",
      " [38 22  6 14]\n",
      " [ 0 23 15 19]\n",
      " [28 34 21 33]\n",
      " [ 9  6 36 39]\n",
      " [ 2 32  4  8]\n",
      " [31 30 27 34]]\n",
      "Top 5 rows:\n",
      " [[15 24 14 38]\n",
      " [20 32 36  0]\n",
      " [20 28 22 36]\n",
      " [37 22 24 29]\n",
      " [38 22  6 14]]\n"
     ]
    }
   ],
   "source": [
    "arr =np.random.randint(0,40,size=[10,4])\n",
    "arr1=arr[:5,:]\n",
    "print('Original array:\\n',arr)\n",
    "print('Top 5 rows:\\n',arr1)"
   ]
  },
  {
   "cell_type": "markdown",
   "metadata": {},
   "source": [
    "### 18. Write a NumPy program to get the unique elements of a 1D and 2D array."
   ]
  },
  {
   "cell_type": "code",
   "execution_count": 29,
   "metadata": {},
   "outputs": [
    {
     "name": "stdout",
     "output_type": "stream",
     "text": [
      "1d :\n",
      " [0 0 2 1]\n",
      "Unique elements of 1d array:\n",
      " [0 1 2]\n",
      "2d array:\n",
      " [[1 0 8 4]\n",
      " [6 7 4 8]\n",
      " [7 8 0 6]]\n",
      "Unique elements of 2d array:\n",
      " [0 1 4 6 7 8]\n"
     ]
    }
   ],
   "source": [
    "arr1 =np.random.randint(0,3,size=4)\n",
    "arr2 =np.random.randint(0,10,size=[3,4])\n",
    "print('1d :\\n',arr1)\n",
    "print('Unique elements of 1d array:\\n',np.unique(arr1))\n",
    "print('2d array:\\n',arr2)\n",
    "print('Unique elements of 2d array:\\n',np.unique(arr2))"
   ]
  },
  {
   "cell_type": "markdown",
   "metadata": {},
   "source": [
    "### 19. Write a NumPy program to get the unique elements of an array.\n",
    "- arr= [ -10 12.12 -0.2]"
   ]
  },
  {
   "cell_type": "code",
   "execution_count": 30,
   "metadata": {},
   "outputs": [
    {
     "name": "stdout",
     "output_type": "stream",
     "text": [
      "[-10.   -0.2  12. ]\n"
     ]
    }
   ],
   "source": [
    "arr= [-10,12.,12,-0.2]\n",
    "print(np.unique(arr))"
   ]
  },
  {
   "cell_type": "markdown",
   "metadata": {},
   "source": [
    "### 20. Write a NumPy program to save a given array to a text file and load it. You have to save and load files using numpy library"
   ]
  },
  {
   "cell_type": "code",
   "execution_count": 31,
   "metadata": {},
   "outputs": [
    {
     "name": "stdout",
     "output_type": "stream",
     "text": [
      "[[9. 9. 9. 0.]\n",
      " [6. 5. 8. 0.]\n",
      " [1. 2. 5. 1.]]\n"
     ]
    }
   ],
   "source": [
    "np.savetxt('df.txt',np.random.randint(0,10,size=[3,4]))\n",
    "arr = np.loadtxt('df.txt')\n",
    "print(arr)"
   ]
  },
  {
   "cell_type": "code",
   "execution_count": null,
   "metadata": {},
   "outputs": [],
   "source": []
  }
 ],
 "metadata": {
  "kernelspec": {
   "display_name": "Python 3",
   "language": "python",
   "name": "python3"
  },
  "language_info": {
   "codemirror_mode": {
    "name": "ipython",
    "version": 3
   },
   "file_extension": ".py",
   "mimetype": "text/x-python",
   "name": "python",
   "nbconvert_exporter": "python",
   "pygments_lexer": "ipython3",
   "version": "3.7.6"
  }
 },
 "nbformat": 4,
 "nbformat_minor": 4
}
