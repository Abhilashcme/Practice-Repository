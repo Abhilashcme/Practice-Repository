{
 "cells": [
  {
   "cell_type": "markdown",
   "metadata": {},
   "source": [
    "# Numpy"
   ]
  },
  {
   "cell_type": "code",
   "execution_count": 1,
   "metadata": {},
   "outputs": [],
   "source": [
    "import numpy as np"
   ]
  },
  {
   "cell_type": "markdown",
   "metadata": {},
   "source": [
    "### 1. Create a 5X2 integer array from a range between 100 to 200 such that the difference between each element is 10"
   ]
  },
  {
   "cell_type": "code",
   "execution_count": 2,
   "metadata": {},
   "outputs": [
    {
     "data": {
      "text/plain": [
       "array([[100, 110],\n",
       "       [120, 130],\n",
       "       [140, 150],\n",
       "       [160, 170],\n",
       "       [180, 190]])"
      ]
     },
     "execution_count": 2,
     "metadata": {},
     "output_type": "execute_result"
    }
   ],
   "source": [
    "np.arange(100,200,10).reshape(5,2)"
   ]
  },
  {
   "cell_type": "markdown",
   "metadata": {},
   "source": [
    "### 2. Write a NumPy program to create a 3x3x3 array filled with arbitrary values and find the minimum and maximum values."
   ]
  },
  {
   "cell_type": "code",
   "execution_count": 3,
   "metadata": {},
   "outputs": [
    {
     "name": "stdout",
     "output_type": "stream",
     "text": [
      "[[[0.72069633 0.86835631 0.74550302]\n",
      "  [0.73676602 0.60900466 0.51916978]\n",
      "  [0.83575491 0.91328603 0.67279337]]\n",
      "\n",
      " [[0.59184285 0.12543217 0.21961908]\n",
      "  [0.62872919 0.60539696 0.30889255]\n",
      "  [0.38908811 0.09397913 0.05560883]]\n",
      "\n",
      " [[0.68541647 0.27442674 0.44134932]\n",
      "  [0.5393271  0.2056415  0.60016648]\n",
      "  [0.77481993 0.3192923  0.73185279]]]\n",
      "Min :  0.05560883413411832\n",
      "Max :  0.9132860283252662\n"
     ]
    }
   ],
   "source": [
    "arr=np.random.random((3, 3, 3))\n",
    "print(arr)\n",
    "print('Min : ',arr.min())\n",
    "print('Max : ',arr.max())"
   ]
  },
  {
   "cell_type": "markdown",
   "metadata": {},
   "source": [
    "### 3. Write a NumPy program to create a 5x5 zero matrix with elements on the main diagonal equal to 1, 2, 3, 4, 5."
   ]
  },
  {
   "cell_type": "code",
   "execution_count": 4,
   "metadata": {},
   "outputs": [
    {
     "data": {
      "text/plain": [
       "array([[1, 0, 0, 0, 0],\n",
       "       [0, 2, 0, 0, 0],\n",
       "       [0, 0, 3, 0, 0],\n",
       "       [0, 0, 0, 4, 0],\n",
       "       [0, 0, 0, 0, 5]])"
      ]
     },
     "execution_count": 4,
     "metadata": {},
     "output_type": "execute_result"
    }
   ],
   "source": [
    "np.diag([1, 2, 3, 4, 5])"
   ]
  },
  {
   "cell_type": "markdown",
   "metadata": {},
   "source": [
    "### 4. Given an array\n",
    "- arr = np.array([0, 1, 2, 3, 4, 5, 6, 7, 8, 9\n",
    "- i) Extract all odd numbers from arr\n",
    "- ii) Replace all odd numbers in arr with -1"
   ]
  },
  {
   "cell_type": "code",
   "execution_count": 5,
   "metadata": {},
   "outputs": [
    {
     "name": "stdout",
     "output_type": "stream",
     "text": [
      "Original array:  [0 1 2 3 4 5 6 7 8 9]\n",
      "Odd numbers array:  [1 3 5 7 9]\n",
      "Odd numbers relaced with -1:  [ 0 -1  2 -1  4 -1  6 -1  8 -1]\n"
     ]
    }
   ],
   "source": [
    "arr = np.array([0, 1, 2, 3, 4, 5, 6, 7, 8, 9])\n",
    "print('Original array: ',arr)\n",
    "print('Odd numbers array: ',arr[arr%2!=0])\n",
    "arr[arr%2!=0] = -1\n",
    "print('Odd numbers relaced with -1: ',arr)"
   ]
  },
  {
   "cell_type": "markdown",
   "metadata": {},
   "source": [
    "### 5. Write a NumPy program to create a 3x3 identity matrix, i.e. diagonal elements are 1,the rest are 0."
   ]
  },
  {
   "cell_type": "code",
   "execution_count": 6,
   "metadata": {},
   "outputs": [
    {
     "data": {
      "text/plain": [
       "array([[1., 0., 0.],\n",
       "       [0., 1., 0.],\n",
       "       [0., 0., 1.]])"
      ]
     },
     "execution_count": 6,
     "metadata": {},
     "output_type": "execute_result"
    }
   ],
   "source": [
    "np.identity(3)"
   ]
  },
  {
   "cell_type": "markdown",
   "metadata": {},
   "source": [
    "### 6. Write a NumPy program to convert an array to a float type."
   ]
  },
  {
   "cell_type": "code",
   "execution_count": 7,
   "metadata": {},
   "outputs": [
    {
     "data": {
      "text/plain": [
       "array([1., 2., 3., 4.])"
      ]
     },
     "execution_count": 7,
     "metadata": {},
     "output_type": "execute_result"
    }
   ],
   "source": [
    "np.array([1, 2, 3, 4],dtype='float')"
   ]
  },
  {
   "cell_type": "markdown",
   "metadata": {},
   "source": [
    "### 7. Write a NumPy program to generate five random numbers from the normal distribution."
   ]
  },
  {
   "cell_type": "code",
   "execution_count": 8,
   "metadata": {},
   "outputs": [
    {
     "data": {
      "text/plain": [
       "array([ 0.83464899, -1.0233109 ,  0.29203284, -0.15697962,  0.58520501])"
      ]
     },
     "execution_count": 8,
     "metadata": {},
     "output_type": "execute_result"
    }
   ],
   "source": [
    "np.random.randn(5)"
   ]
  },
  {
   "cell_type": "markdown",
   "metadata": {},
   "source": [
    "### 8. Following is the input NumPy array delete column two and insert following new column in its place.\n",
    "- sampleArray=numpy.array([[34,43,73],[82,22,12],[53,94,66]])\n",
    "- newColumn = numpy.array([[10,10,10]])"
   ]
  },
  {
   "cell_type": "code",
   "execution_count": 9,
   "metadata": {},
   "outputs": [
    {
     "data": {
      "text/plain": [
       "array([[34, 43, 10],\n",
       "       [82, 22, 10],\n",
       "       [53, 94, 10]])"
      ]
     },
     "execution_count": 9,
     "metadata": {},
     "output_type": "execute_result"
    }
   ],
   "source": [
    "sampleArray=np.array([[34,43,73],[82,22,12],[53,94,66]])\n",
    "newColumn = np.array([[10,10,10]])\n",
    "sampleArray[:, 2]=newColumn\n",
    "sampleArray"
   ]
  },
  {
   "cell_type": "markdown",
   "metadata": {},
   "source": [
    "### 9. Write a NumPy program to compute the multiplication of two given matrices."
   ]
  },
  {
   "cell_type": "code",
   "execution_count": 10,
   "metadata": {},
   "outputs": [
    {
     "data": {
      "text/plain": [
       "array([[22, 28],\n",
       "       [49, 64]])"
      ]
     },
     "execution_count": 10,
     "metadata": {},
     "output_type": "execute_result"
    }
   ],
   "source": [
    "mat1 =np.arange(1,7).reshape(2,3)\n",
    "mat2 =np.arange(1,7).reshape(3,2)\n",
    "np.dot(mat1,mat2)"
   ]
  },
  {
   "cell_type": "markdown",
   "metadata": {},
   "source": [
    "### 10. Write a NumPy program to create a random vector of size 10 and sort it."
   ]
  },
  {
   "cell_type": "code",
   "execution_count": 11,
   "metadata": {},
   "outputs": [
    {
     "data": {
      "text/plain": [
       "array([ 1,  2, 11, 11, 16, 16, 30, 30, 43, 48])"
      ]
     },
     "execution_count": 11,
     "metadata": {},
     "output_type": "execute_result"
    }
   ],
   "source": [
    "np.sort(np.random.randint(1,50,size=10))"
   ]
  },
  {
   "cell_type": "markdown",
   "metadata": {},
   "source": [
    "### 11. Write a NumPy program to compute the covariance matrix of two arrays."
   ]
  },
  {
   "cell_type": "code",
   "execution_count": 12,
   "metadata": {},
   "outputs": [
    {
     "name": "stdout",
     "output_type": "stream",
     "text": [
      "[9 9 1]\n",
      "[4 7 1]\n",
      "Covariance matrix:\n",
      " [[21.33333333 12.        ]\n",
      " [12.          9.        ]]\n"
     ]
    }
   ],
   "source": [
    "mat1 =np.random.randint(1,10,size=3)\n",
    "mat2 =np.random.randint(1,10,size=3)\n",
    "print(mat1)\n",
    "print(mat2)\n",
    "print('Covariance matrix:\\n',np.cov(mat1,mat2))"
   ]
  },
  {
   "cell_type": "markdown",
   "metadata": {},
   "source": [
    "### 12.Create a 4X2 integer array and Prints its :\n",
    "- i)The shape of an array.\n",
    "- ii) Array dimensions.\n",
    "- iii) The Length of each element of the array in bytes"
   ]
  },
  {
   "cell_type": "code",
   "execution_count": 13,
   "metadata": {},
   "outputs": [
    {
     "name": "stdout",
     "output_type": "stream",
     "text": [
      "(4, 2)\n",
      "2\n",
      "32\n"
     ]
    }
   ],
   "source": [
    "mat1 =np.random.randint(1,10,size=[4,2])\n",
    "print(mat1.shape)\n",
    "print(mat1.ndim)\n",
    "print(mat1.nbytes)"
   ]
  },
  {
   "cell_type": "markdown",
   "metadata": {},
   "source": [
    "### 13. Write a NumPy program to concatenate element-wise two arrays of string."
   ]
  },
  {
   "cell_type": "code",
   "execution_count": 14,
   "metadata": {},
   "outputs": [
    {
     "name": "stdout",
     "output_type": "stream",
     "text": [
      "['ax' 'by' 'cz']\n"
     ]
    }
   ],
   "source": [
    "arr1=np.array(['a','b','c'])\n",
    "arr2=np.array(['x','y','z'])\n",
    "print( np.char.add(arr1,arr2))"
   ]
  },
  {
   "cell_type": "markdown",
   "metadata": {},
   "source": [
    "### 14. Write a NumPy program to capitalize the first letter, lowercase, uppercase, swapcase, title-case of all the elements of a given array."
   ]
  },
  {
   "cell_type": "code",
   "execution_count": 15,
   "metadata": {},
   "outputs": [
    {
     "name": "stdout",
     "output_type": "stream",
     "text": [
      "['Hulk' 'Iron man' 'Captain america' 'Thor']\n",
      "['hulk' 'iron man' 'captain america' 'thor']\n",
      "['HULK' 'IRON MAN' 'CAPTAIN AMERICA' 'THOR']\n",
      "['hULK' 'iRON mAN' 'cAPTAIN aMERICA' 'tHOR']\n",
      "['Hulk' 'Iron Man' 'Captain America' 'Thor']\n"
     ]
    }
   ],
   "source": [
    "arr1=np.array(['Hulk','Iron Man','Captain America','Thor'])\n",
    "print (np.char.capitalize(arr1))\n",
    "print (np.char.lower(arr1))\n",
    "print (np.char.upper(arr1))\n",
    "print (np.char.swapcase(arr1))\n",
    "print (np.char.title(arr1))"
   ]
  },
  {
   "cell_type": "markdown",
   "metadata": {},
   "source": [
    "### 15. Write a NumPy program to convert a given array into a list."
   ]
  },
  {
   "cell_type": "code",
   "execution_count": 16,
   "metadata": {},
   "outputs": [
    {
     "name": "stdout",
     "output_type": "stream",
     "text": [
      "Numpy Array:\n",
      " [[0 1]\n",
      " [2 3]\n",
      " [4 5]\n",
      " [6 7]\n",
      " [8 9]]\n",
      "List:\n",
      " [[0, 1], [2, 3], [4, 5], [6, 7], [8, 9]]\n"
     ]
    }
   ],
   "source": [
    "arr=np.arange(0,10).reshape(5,2)\n",
    "print('Numpy Array:\\n',arr)\n",
    "print('List:\\n',arr.tolist())"
   ]
  },
  {
   "cell_type": "markdown",
   "metadata": {},
   "source": [
    "### 16. Write a NumPy program to compute the sum of all elements,  sum of each column and sum of each row of a given array."
   ]
  },
  {
   "cell_type": "code",
   "execution_count": 17,
   "metadata": {},
   "outputs": [
    {
     "name": "stdout",
     "output_type": "stream",
     "text": [
      "Array:\n",
      " [[15 12 18]\n",
      " [ 5  9 19]\n",
      " [ 1  2 16]\n",
      " [11 16 19]]\n",
      "Sum of all elements:\n",
      " 143\n",
      "sum of each column:\n",
      " [32 39 72]\n",
      "sum of each row:\n",
      " [45 33 19 46]\n"
     ]
    }
   ],
   "source": [
    "arr =np.random.randint(1,20,size=[4,3])\n",
    "print('Array:\\n',arr)\n",
    "print('Sum of all elements:\\n',np.sum(arr))\n",
    "print('sum of each column:\\n',np.sum(arr,axis=0))\n",
    "print('sum of each row:\\n',np.sum(arr,axis=1))"
   ]
  },
  {
   "cell_type": "markdown",
   "metadata": {},
   "source": [
    "### 17. Write a NumPy program to create a random 10x4 array and extract the first five rows of the array and store them into a variable."
   ]
  },
  {
   "cell_type": "code",
   "execution_count": 18,
   "metadata": {},
   "outputs": [
    {
     "name": "stdout",
     "output_type": "stream",
     "text": [
      "Original array:\n",
      " [[26 15 19  3]\n",
      " [36  1 35  8]\n",
      " [ 3 22 37 16]\n",
      " [21 18 39 16]\n",
      " [30 22 32 38]\n",
      " [10 24 24  8]\n",
      " [31 32  1 11]\n",
      " [ 8 37 26 27]\n",
      " [14  6  9  5]\n",
      " [29 21 31  0]]\n",
      "Top 5 rows:\n",
      " [[26 15 19  3]\n",
      " [36  1 35  8]\n",
      " [ 3 22 37 16]\n",
      " [21 18 39 16]\n",
      " [30 22 32 38]]\n"
     ]
    }
   ],
   "source": [
    "arr =np.random.randint(0,40,size=[10,4])\n",
    "arr1=arr[:5,:]\n",
    "print('Original array:\\n',arr)\n",
    "print('Top 5 rows:\\n',arr1)"
   ]
  },
  {
   "cell_type": "markdown",
   "metadata": {},
   "source": [
    "### 18. Write a NumPy program to get the unique elements of a 1D and 2D array."
   ]
  },
  {
   "cell_type": "code",
   "execution_count": 19,
   "metadata": {},
   "outputs": [
    {
     "name": "stdout",
     "output_type": "stream",
     "text": [
      "1d array:\n",
      " [1 0 0 0]\n",
      "Unique elements of 1d array:\n",
      " [0 1]\n",
      "2d array:\n",
      " [[6 7 3 6]\n",
      " [6 9 2 7]\n",
      " [2 7 3 3]]\n",
      "Unique elements of 2d array:\n",
      " [2 3 6 7 9]\n"
     ]
    }
   ],
   "source": [
    "arr1 =np.random.randint(0,3,size=4)\n",
    "arr2 =np.random.randint(0,10,size=[3,4])\n",
    "print('1d array:\\n',arr1)\n",
    "print('Unique elements of 1d array:\\n',np.unique(arr1))\n",
    "print('2d array:\\n',arr2)\n",
    "print('Unique elements of 2d array:\\n',np.unique(arr2))"
   ]
  },
  {
   "cell_type": "markdown",
   "metadata": {},
   "source": [
    "### 19. Write a NumPy program to get the unique elements of an array.\n",
    "- arr= [ -10 12.12 -0.2]"
   ]
  },
  {
   "cell_type": "code",
   "execution_count": 20,
   "metadata": {},
   "outputs": [
    {
     "name": "stdout",
     "output_type": "stream",
     "text": [
      "[-10.   -0.2  12. ]\n"
     ]
    }
   ],
   "source": [
    "arr= [-10,12.,12,-0.2]\n",
    "print(np.unique(arr))"
   ]
  },
  {
   "cell_type": "markdown",
   "metadata": {},
   "source": [
    "### 20. Write a NumPy program to save a given array to a text file and load it. You have to save and load files using numpy library"
   ]
  },
  {
   "cell_type": "code",
   "execution_count": 21,
   "metadata": {},
   "outputs": [
    {
     "name": "stdout",
     "output_type": "stream",
     "text": [
      "[[4. 7. 6. 4.]\n",
      " [8. 0. 0. 6.]\n",
      " [1. 2. 7. 6.]]\n"
     ]
    }
   ],
   "source": [
    "np.savetxt('df.txt',np.random.randint(0,10,size=[3,4]))\n",
    "arr = np.loadtxt('df.txt')\n",
    "print(arr)"
   ]
  },
  {
   "cell_type": "code",
   "execution_count": null,
   "metadata": {},
   "outputs": [],
   "source": []
  }
 ],
 "metadata": {
  "kernelspec": {
   "display_name": "Python 3",
   "language": "python",
   "name": "python3"
  },
  "language_info": {
   "codemirror_mode": {
    "name": "ipython",
    "version": 3
   },
   "file_extension": ".py",
   "mimetype": "text/x-python",
   "name": "python",
   "nbconvert_exporter": "python",
   "pygments_lexer": "ipython3",
   "version": "3.6.3"
  }
 },
 "nbformat": 4,
 "nbformat_minor": 2
}
