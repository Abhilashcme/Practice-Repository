{
 "cells": [
  {
   "cell_type": "code",
   "execution_count": null,
   "metadata": {},
   "outputs": [],
   "source": [
    "# Agenda\n",
    "# What is pandas\n",
    "# What is series\n",
    "#Installation of Pandas\n",
    "#Create Simple Series\n",
    "# Create Series from Numpy\n",
    "#Create Series with custom indexes\n",
    "#Filter series based on the conditions\n",
    "#Check whether elements is in the series\n",
    "#to_dict() functions\n",
    "#Intro to NAN\n",
    "#Intro to NULL\n",
    "#addition of two series"
   ]
  },
  {
   "cell_type": "markdown",
   "metadata": {},
   "source": [
    "\n",
    "### pandas is a software library written for the Python programming language for data manipulation and analysis. In particular, it offers data structures and operations for manipulating numerical tables and time series. It is free software released under the three-clause BSD license. The name is derived from the term \"panel data\", an econometrics term for data sets that include observations over multiple time periods for the same individuals. Its name is a play on the phrase \"Python data analysis\" itself. Wes McKinney started building what would become pandas at AQR Capital while he was a researcher there from 2007 to 2010."
   ]
  },
  {
   "cell_type": "code",
   "execution_count": 3,
   "metadata": {},
   "outputs": [
    {
     "name": "stdout",
     "output_type": "stream",
     "text": [
      "Requirement already satisfied: pandas in d:\\ananconda\\lib\\site-packages (1.1.3)\n",
      "Requirement already satisfied: numpy>=1.15.4 in d:\\ananconda\\lib\\site-packages (from pandas) (1.19.2)\n",
      "Requirement already satisfied: python-dateutil>=2.7.3 in d:\\ananconda\\lib\\site-packages (from pandas) (2.8.1)\n",
      "Requirement already satisfied: pytz>=2017.2 in d:\\ananconda\\lib\\site-packages (from pandas) (2020.1)\n",
      "Requirement already satisfied: six>=1.5 in d:\\ananconda\\lib\\site-packages (from python-dateutil>=2.7.3->pandas) (1.15.0)\n"
     ]
    }
   ],
   "source": [
    "!pip install pandas"
   ]
  },
  {
   "cell_type": "code",
   "execution_count": 4,
   "metadata": {},
   "outputs": [],
   "source": [
    "import numpy as np\n",
    "import pandas as pd"
   ]
  },
  {
   "cell_type": "code",
   "execution_count": 6,
   "metadata": {},
   "outputs": [],
   "source": [
    "# What is pandas\n",
    "# What is a series\n",
    "\n",
    "import pandas as pd\n",
    "from pandas import Series"
   ]
  },
  {
   "cell_type": "code",
   "execution_count": 7,
   "metadata": {},
   "outputs": [
    {
     "name": "stdout",
     "output_type": "stream",
     "text": [
      "0     5\n",
      "1    10\n",
      "2    15\n",
      "3    20\n",
      "dtype: int64\n"
     ]
    }
   ],
   "source": [
    "#Create Simple Series\n",
    "\n",
    "S1= Series([5,10,15,20])\n",
    "print(S1)"
   ]
  },
  {
   "cell_type": "code",
   "execution_count": 9,
   "metadata": {},
   "outputs": [
    {
     "name": "stdout",
     "output_type": "stream",
     "text": [
      "[ 5 10 15 20]\n"
     ]
    }
   ],
   "source": [
    "print(S1.values)"
   ]
  },
  {
   "cell_type": "code",
   "execution_count": 10,
   "metadata": {},
   "outputs": [
    {
     "name": "stdout",
     "output_type": "stream",
     "text": [
      "[0 1 2 3]\n"
     ]
    }
   ],
   "source": [
    "print(S1.index.values)"
   ]
  },
  {
   "cell_type": "code",
   "execution_count": 11,
   "metadata": {},
   "outputs": [
    {
     "name": "stdout",
     "output_type": "stream",
     "text": [
      "[400 300 200 100]\n"
     ]
    }
   ],
   "source": [
    "# Create Series from Numpy\n",
    "revenue_array =np.array([400,300,200,100])\n",
    "print(revenue_array)"
   ]
  },
  {
   "cell_type": "code",
   "execution_count": 13,
   "metadata": {},
   "outputs": [
    {
     "name": "stdout",
     "output_type": "stream",
     "text": [
      "0    400\n",
      "1    300\n",
      "2    200\n",
      "3    100\n",
      "dtype: int32\n"
     ]
    }
   ],
   "source": [
    "revenue_Series=Series(revenue_array)\n",
    "print(revenue_Series)"
   ]
  },
  {
   "cell_type": "code",
   "execution_count": 14,
   "metadata": {},
   "outputs": [
    {
     "name": "stdout",
     "output_type": "stream",
     "text": [
      "Uber      400\n",
      "OLA       300\n",
      "Gojeck    200\n",
      "Lyft      100\n",
      "dtype: int32\n"
     ]
    }
   ],
   "source": [
    "#Create Series with custom indexes\n",
    "revenue = Series (revenue_array,index=['Uber','OLA','Gojeck','Lyft'])\n",
    "print(revenue)"
   ]
  },
  {
   "cell_type": "code",
   "execution_count": 16,
   "metadata": {},
   "outputs": [
    {
     "data": {
      "text/plain": [
       "300"
      ]
     },
     "execution_count": 16,
     "metadata": {},
     "output_type": "execute_result"
    }
   ],
   "source": [
    "revenue['OLA']"
   ]
  },
  {
   "cell_type": "code",
   "execution_count": 17,
   "metadata": {},
   "outputs": [
    {
     "data": {
      "text/plain": [
       "100"
      ]
     },
     "execution_count": 17,
     "metadata": {},
     "output_type": "execute_result"
    }
   ],
   "source": [
    "revenue['Lyft']"
   ]
  },
  {
   "cell_type": "code",
   "execution_count": 18,
   "metadata": {},
   "outputs": [
    {
     "name": "stdout",
     "output_type": "stream",
     "text": [
      "Uber       True\n",
      "OLA        True\n",
      "Gojeck    False\n",
      "Lyft      False\n",
      "dtype: bool\n"
     ]
    }
   ],
   "source": [
    "#Filter series based on the conditions\n",
    "print(revenue>250)"
   ]
  },
  {
   "cell_type": "code",
   "execution_count": 19,
   "metadata": {},
   "outputs": [
    {
     "name": "stdout",
     "output_type": "stream",
     "text": [
      "Uber    400\n",
      "OLA     300\n",
      "dtype: int32\n"
     ]
    }
   ],
   "source": [
    "print(revenue[revenue>250])"
   ]
  },
  {
   "cell_type": "code",
   "execution_count": 20,
   "metadata": {},
   "outputs": [
    {
     "name": "stdout",
     "output_type": "stream",
     "text": [
      "True\n"
     ]
    }
   ],
   "source": [
    "#Check whether elements is in the series\n",
    "print('OLA' in revenue)"
   ]
  },
  {
   "cell_type": "code",
   "execution_count": 21,
   "metadata": {},
   "outputs": [
    {
     "name": "stdout",
     "output_type": "stream",
     "text": [
      "False\n"
     ]
    }
   ],
   "source": [
    "print('GRAB' in revenue)"
   ]
  },
  {
   "cell_type": "code",
   "execution_count": 23,
   "metadata": {},
   "outputs": [
    {
     "name": "stdout",
     "output_type": "stream",
     "text": [
      "{'Uber': 400, 'OLA': 300, 'Gojeck': 200, 'Lyft': 100}\n"
     ]
    }
   ],
   "source": [
    "#to_dict() functions\n",
    "revenue_dict = revenue.to_dict()\n",
    "print(revenue_dict)"
   ]
  },
  {
   "cell_type": "code",
   "execution_count": 24,
   "metadata": {},
   "outputs": [
    {
     "name": "stdout",
     "output_type": "stream",
     "text": [
      "Uber      400\n",
      "OLA       300\n",
      "Gojeck    200\n",
      "Lyft      100\n",
      "dtype: int32\n"
     ]
    }
   ],
   "source": [
    "# addition of two series\n",
    "print(revenue)"
   ]
  },
  {
   "cell_type": "code",
   "execution_count": 25,
   "metadata": {},
   "outputs": [
    {
     "name": "stdout",
     "output_type": "stream",
     "text": [
      "Uber      800\n",
      "OLA       600\n",
      "Gojeck    400\n",
      "Lyft      200\n",
      "dtype: int32\n"
     ]
    }
   ],
   "source": [
    "print(revenue+revenue)"
   ]
  },
  {
   "cell_type": "code",
   "execution_count": 26,
   "metadata": {},
   "outputs": [
    {
     "name": "stdout",
     "output_type": "stream",
     "text": [
      "Company Name\n",
      "Uber      400\n",
      "OLA       300\n",
      "Gojeck    200\n",
      "Lyft      100\n",
      "Name: Company-Revenue, dtype: int32\n"
     ]
    }
   ],
   "source": [
    "# Assign Names to a series\n",
    "\n",
    "revenue.name=\"Company-Revenue\"\n",
    "revenue.index.name=\"Company Name\"\n",
    "print (revenue)\n",
    "\n"
   ]
  },
  {
   "cell_type": "code",
   "execution_count": null,
   "metadata": {},
   "outputs": [],
   "source": []
  }
 ],
 "metadata": {
  "kernelspec": {
   "display_name": "Python 3",
   "language": "python",
   "name": "python3"
  },
  "language_info": {
   "codemirror_mode": {
    "name": "ipython",
    "version": 3
   },
   "file_extension": ".py",
   "mimetype": "text/x-python",
   "name": "python",
   "nbconvert_exporter": "python",
   "pygments_lexer": "ipython3",
   "version": "3.8.5"
  }
 },
 "nbformat": 4,
 "nbformat_minor": 4
}
