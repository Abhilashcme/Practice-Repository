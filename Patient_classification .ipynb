{
 "cells": [
  {
   "cell_type": "code",
   "execution_count": 58,
   "metadata": {},
   "outputs": [],
   "source": [
    "import pandas as pd\n",
    "from sklearn.utils import shuffle\n",
    "from sklearn import svm\n",
    "from sklearn.metrics import confusion_matrix\n",
    "from matplotlib import pyplot as plt\n",
    "from sklearn.metrics import classification_report\n",
    "from sklearn.metrics import precision_score, recall_score, accuracy_score\n"
   ]
  },
  {
   "cell_type": "code",
   "execution_count": 59,
   "metadata": {},
   "outputs": [],
   "source": [
    "#Data Reading"
   ]
  },
  {
   "cell_type": "code",
   "execution_count": 61,
   "metadata": {},
   "outputs": [],
   "source": [
    "data= pd.read_csv(r\"BiomechanicalData.csv\")\n"
   ]
  },
  {
   "cell_type": "code",
   "execution_count": 4,
   "metadata": {},
   "outputs": [],
   "source": [
    "#The dataset contains 310 records\n",
    "#See the Shape of data and check the first 5 records of your data"
   ]
  },
  {
   "cell_type": "code",
   "execution_count": 62,
   "metadata": {},
   "outputs": [
    {
     "name": "stdout",
     "output_type": "stream",
     "text": [
      "Data2 Shape: \n",
      " (310, 7)\n",
      "Data2 Head: \n",
      "    pelvic_incidence  pelvic_tilt  lumbar_lordosis_angle  sacral_slope  \\\n",
      "0         63.027818    22.552586              39.609117     40.475232   \n",
      "1         39.056951    10.060991              25.015378     28.995960   \n",
      "2         68.832021    22.218482              50.092194     46.613539   \n",
      "3         69.297008    24.652878              44.311238     44.644130   \n",
      "4         49.712859     9.652075              28.317406     40.060784   \n",
      "\n",
      "   pelvic_radius  degree_spondylolisthesis   class  \n",
      "0      98.672917                 -0.254400  Hernia  \n",
      "1     114.405425                  4.564259  Hernia  \n",
      "2     105.985135                 -3.530317  Hernia  \n",
      "3     101.868495                 11.211523  Hernia  \n",
      "4     108.168725                  7.918501  Hernia  \n"
     ]
    }
   ],
   "source": [
    "print(\"Data2 Shape: \\n\", data.shape)\n",
    "print(\"Data2 Head: \\n\", data.head())"
   ]
  },
  {
   "cell_type": "code",
   "execution_count": 6,
   "metadata": {},
   "outputs": [],
   "source": [
    "#Shuffling data before training the dataset"
   ]
  },
  {
   "cell_type": "code",
   "execution_count": 63,
   "metadata": {},
   "outputs": [],
   "source": [
    "shuffledata = shuffle(data)\n"
   ]
  },
  {
   "cell_type": "code",
   "execution_count": 8,
   "metadata": {},
   "outputs": [],
   "source": [
    "#Print the first 5 records of the shuffled data"
   ]
  },
  {
   "cell_type": "code",
   "execution_count": 64,
   "metadata": {},
   "outputs": [
    {
     "name": "stdout",
     "output_type": "stream",
     "text": [
      "DataShuffle head: \n",
      "      pelvic_incidence  pelvic_tilt  lumbar_lordosis_angle  sacral_slope  \\\n",
      "113         69.756665    19.279297              48.500000     50.477369   \n",
      "141         89.504947    48.903653              72.003423     40.601295   \n",
      "219         64.311867    26.328369              50.958964     37.983498   \n",
      "189         82.406524    29.276422              77.054565     53.130102   \n",
      "99          58.521623    13.922286              41.467855     44.599337   \n",
      "\n",
      "     pelvic_radius  degree_spondylolisthesis              class  \n",
      "113      96.491370                 51.169640  Spondylolisthesis  \n",
      "141     134.634291                118.353370  Spondylolisthesis  \n",
      "219     106.177751                  3.118221             Normal  \n",
      "189     117.042244                 62.765348  Spondylolisthesis  \n",
      "99      115.514798                 30.387984  Spondylolisthesis  \n"
     ]
    }
   ],
   "source": [
    "print(\"DataShuffle head: \\n\", shuffledata.head())\n"
   ]
  },
  {
   "cell_type": "code",
   "execution_count": 65,
   "metadata": {},
   "outputs": [],
   "source": [
    "#Assign the first 210 records to the Training data\n",
    "train_data = shuffledata[:210]\n",
    "#Assign the last 100 records to the Testing data\n",
    "test_data = shuffledata[-100:]"
   ]
  },
  {
   "cell_type": "code",
   "execution_count": 66,
   "metadata": {},
   "outputs": [
    {
     "name": "stdout",
     "output_type": "stream",
     "text": [
      "Train Data2 Shape: \n",
      " (210, 7)\n",
      "Train Data2 head: \n",
      "      pelvic_incidence  pelvic_tilt  lumbar_lordosis_angle  sacral_slope  \\\n",
      "113         69.756665    19.279297              48.500000     50.477369   \n",
      "141         89.504947    48.903653              72.003423     40.601295   \n",
      "219         64.311867    26.328369              50.958964     37.983498   \n",
      "189         82.406524    29.276422              77.054565     53.130102   \n",
      "99          58.521623    13.922286              41.467855     44.599337   \n",
      "\n",
      "     pelvic_radius  degree_spondylolisthesis              class  \n",
      "113      96.491370                 51.169640  Spondylolisthesis  \n",
      "141     134.634291                118.353370  Spondylolisthesis  \n",
      "219     106.177751                  3.118221             Normal  \n",
      "189     117.042244                 62.765348  Spondylolisthesis  \n",
      "99      115.514798                 30.387984  Spondylolisthesis  \n",
      "Test Data2 Shape: \n",
      " (100, 7)\n",
      "Test Data2 head: \n",
      "      pelvic_incidence  pelvic_tilt  lumbar_lordosis_angle  sacral_slope  \\\n",
      "147         55.080766    -3.759930              56.000000     58.840695   \n",
      "6           53.432928    15.864336              37.165934     37.568592   \n",
      "72          84.974132    33.021175              60.859873     51.952957   \n",
      "277         65.756348    13.206926              44.000000     52.549422   \n",
      "262         42.517272    14.375671              25.323565     28.141601   \n",
      "\n",
      "     pelvic_radius  degree_spondylolisthesis              class  \n",
      "147     109.915367                 31.773583  Spondylolisthesis  \n",
      "6       120.567523                  5.988551             Hernia  \n",
      "72      125.659534                 74.333409  Spondylolisthesis  \n",
      "277     129.393573                 -1.982120             Normal  \n",
      "262     128.905689                  0.757020             Normal  \n"
     ]
    }
   ],
   "source": [
    "#Check the shape and head of the training and testing data\n",
    "print(\"Train Data2 Shape: \\n\", train_data.shape)\n",
    "print(\"Train Data2 head: \\n\", train_data.head())\n",
    "print(\"Test Data2 Shape: \\n\", test_data.shape)\n",
    "print(\"Test Data2 head: \\n\", test_data.head())"
   ]
  },
  {
   "cell_type": "code",
   "execution_count": 85,
   "metadata": {},
   "outputs": [],
   "source": [
    "#Assign the first 6 column names as the Train Features\n",
    "trainFeaturesData = list(train_data.columns[:6])\n",
    "#print(\"Features: \\n\", trainFeaturesData)"
   ]
  },
  {
   "cell_type": "code",
   "execution_count": 84,
   "metadata": {},
   "outputs": [],
   "source": [
    "#Get the data under these 6 columns\n",
    "trainFeatures = train_data[trainFeaturesData]\n",
    "#print(\"Train Features: \\n\", trainFeatures.head())"
   ]
  },
  {
   "cell_type": "code",
   "execution_count": 83,
   "metadata": {},
   "outputs": [],
   "source": [
    "#Get the data under the 'class' column\n",
    "trainClass = train_data[\"class\"]\n",
    "#print(\"Training data Class: \\n\", trainClass.head())\n"
   ]
  },
  {
   "cell_type": "code",
   "execution_count": 70,
   "metadata": {},
   "outputs": [],
   "source": [
    "\n",
    "#Create a SVM Classifier\n",
    "#classifier = svm.SVC(kernel='rbf', C=1, gamma=0.001)\n",
    "#classifier = svm.SVC(kernel='rbf', C=1, gamma=0.167) #auto\n",
    "classifier = svm.SVC(kernel='rbf', C=2.2, gamma=0.001)\n",
    "#classifier = svm.SVC(kernel='rbf')"
   ]
  },
  {
   "cell_type": "code",
   "execution_count": 71,
   "metadata": {},
   "outputs": [
    {
     "name": "stdout",
     "output_type": "stream",
     "text": [
      "SVM Classifier: \n",
      " SVC(C=2.2, gamma=0.001)\n"
     ]
    }
   ],
   "source": [
    "#Using the Training data to build the classifier\n",
    "classifier.fit(trainFeatures, trainClass)\n",
    "print(\"SVM Classifier: \\n\", classifier)"
   ]
  },
  {
   "cell_type": "code",
   "execution_count": 72,
   "metadata": {},
   "outputs": [
    {
     "name": "stdout",
     "output_type": "stream",
     "text": [
      "Support Vectors: \n",
      " [[ 46.85578065  15.35151393  38.          31.50426672 116.2509174\n",
      "    1.66270559]\n",
      " [ 41.72996308  12.25407408  30.12258646  29.475889   116.5857056\n",
      "   -1.24440249]\n",
      " [ 36.68635286   5.01088412  41.9487509   31.67546874  84.24141517\n",
      "    0.66443712]\n",
      " [ 68.83202098  22.21848205  50.09219357  46.61353893 105.9851355\n",
      "   -3.53031731]\n",
      " [ 54.91944259  21.06233245  42.19999999  33.85711014 125.2127163\n",
      "    2.43256144]\n",
      " [ 54.12492019  26.65048856  35.32974693  27.47443163 121.447011\n",
      "    1.57120482]\n",
      " [ 66.87921138  24.89199889  49.27859673  41.9872125  113.4770183\n",
      "   -2.00589175]\n",
      " [ 38.69791243  13.44474904  31.          25.25316339 123.1592507\n",
      "    1.42918576]\n",
      " [ 48.91555137  19.96455616  40.26379358  28.95099521 119.321358\n",
      "    8.02889463]\n",
      " [ 43.92283983  14.17795853  37.8325467   29.7448813  134.4610156\n",
      "    6.45164764]\n",
      " [ 50.20966979  29.76012218  36.10400731  20.44954761 128.2925148\n",
      "    5.74061408]\n",
      " [ 40.55735663  17.97778407  34.          22.57957256 121.0462458\n",
      "   -1.53738307]\n",
      " [ 50.81926781  15.40221253  42.52893886  35.41705528 112.192804\n",
      "   10.86956554]\n",
      " [ 45.54078988  13.06959759  30.29832059  32.47119229 117.9808303\n",
      "   -4.98712962]\n",
      " [ 31.23238734  17.71581923  15.5         13.51656811 120.0553988\n",
      "    0.49975145]\n",
      " [ 43.20318499  19.66314572  35.          23.54003927 124.8461088\n",
      "   -2.91907595]\n",
      " [ 63.83498162  20.36250706  54.55243367  43.47247456 112.3094915\n",
      "   -0.62252664]\n",
      " [ 39.05695098  10.06099147  25.01537822  28.99595951 114.4054254\n",
      "    4.56425864]\n",
      " [ 74.43359316  41.55733141  27.7         32.87626175 107.9493045\n",
      "    5.00008879]\n",
      " [ 44.31890674  12.53799164  36.098763    31.78091509 124.1158358\n",
      "    5.41582514]\n",
      " [ 30.14993632  11.91744524  34.          18.23249108 112.6841408\n",
      "   11.46322327]\n",
      " [ 56.03021778  16.2979149   62.27527456  39.73230287 114.0231172\n",
      "   -2.32568384]\n",
      " [ 43.58096394  16.5088837   46.99999999  27.07208024 109.271634\n",
      "    8.99281573]\n",
      " [ 44.93667457  17.44383762  27.78057555  27.49283695 117.9803245\n",
      "    5.56961959]\n",
      " [ 49.70660953  13.04097405  31.33450009  36.66563548 108.6482654\n",
      "   -7.82598575]\n",
      " [ 66.28539377  26.32784484  47.49999999  39.95754893 121.2196839\n",
      "   -0.79962447]\n",
      " [ 53.85479842  19.23064334  32.77905978  34.62415508 121.6709148\n",
      "    5.3298432 ]\n",
      " [ 63.07361096  24.41380271  53.99999999  38.65980825 106.4243295\n",
      "   15.77969683]\n",
      " [ 45.36675362  10.75561143  29.03834896  34.61114218 117.2700675\n",
      "  -10.67587083]\n",
      " [ 31.48421834   7.82622134  24.28481815  23.657997   113.8331446\n",
      "    4.3930805 ]\n",
      " [ 40.25019968  13.92190658  25.1249496   26.32829311 130.3278713\n",
      "    2.23065173]\n",
      " [ 49.71285934   9.65207488  28.317406    40.06078446 108.1687249\n",
      "    7.91850062]\n",
      " [ 64.31186727  26.32836901  50.95896417  37.98349826 106.1777511\n",
      "    3.11822129]\n",
      " [ 36.42248549  13.87942449  20.24256187  22.543061   126.0768612\n",
      "    0.17971708]\n",
      " [ 51.52935759  13.51784732  35.          38.01151027 126.7185156\n",
      "   13.92833085]\n",
      " [ 54.5036853    6.81991014  46.99999999  47.68377516 111.7911722\n",
      "   -4.40676901]\n",
      " [ 48.3189305   17.45212105  47.99999999  30.86680945 128.9803079\n",
      "   -0.91094057]\n",
      " [ 50.16007802  -2.97002434  41.99999999  53.13010235 131.8024914\n",
      "   -8.29020337]\n",
      " [ 46.63786363  15.85371711  39.99999999  30.78414653 119.3776026\n",
      "    9.06458168]\n",
      " [ 63.02630005  27.33624023  51.60501665  35.69005983 114.5066078\n",
      "    7.4398698 ]\n",
      " [ 89.01487529  26.07598143  69.02125897  62.93889386 111.4810746\n",
      "    6.0615084 ]\n",
      " [ 44.43070103  14.17426387  32.2434952   30.25643716 131.7176127\n",
      "   -3.60425534]\n",
      " [ 38.04655072   8.30166942  26.23683004  29.7448813  123.8034132\n",
      "    3.88577349]\n",
      " [ 42.51561014  16.54121618  41.99999999  25.97439396 120.631941\n",
      "    7.87673069]\n",
      " [ 45.25279209   8.69315736  41.5831264   36.55963472 118.5458418\n",
      "    0.21475017]\n",
      " [ 63.61919213  16.93450781  49.34926218  46.68468432 117.0897469\n",
      "   -0.35781197]\n",
      " [ 67.53818154  14.65504222  58.00142908  52.88313932 123.6322597\n",
      "   25.9702063 ]\n",
      " [ 36.15782981  -0.81051409  33.62731353  36.96834391 135.9369096\n",
      "   -2.0925065 ]\n",
      " [ 37.14014978  16.48123972  24.          20.65891006 125.0143609\n",
      "    7.3664254 ]\n",
      " [ 50.08615264  13.43004422  34.45754051  36.65610842 119.1346221\n",
      "    3.08948446]\n",
      " [ 63.79242525  21.34532339  65.99999999  42.44710185 119.5503909\n",
      "   12.38260373]\n",
      " [ 57.1458515   16.48909145  42.84214764  40.65676005 113.8061775\n",
      "    5.0151857 ]\n",
      " [ 50.91310144   6.6769999   30.89652243  44.23610154 118.151531\n",
      "   -1.05798553]\n",
      " [ 56.10377352  13.10630665  62.63701952  42.99746687 116.2285032\n",
      "   31.17276727]\n",
      " [ 65.61180231  23.13791922  62.58217893  42.47388309 124.1280012\n",
      "   -4.08329841]\n",
      " [ 63.95952166  16.06094486  63.12373633  47.8985768  142.3601245\n",
      "    6.29897093]\n",
      " [ 54.75251965   9.75251965  47.99999999  45.         123.0379985\n",
      "    8.23529412]\n",
      " [ 44.48927476  21.78643263  31.47415392  22.70284212 113.7784936\n",
      "   -0.28412937]\n",
      " [ 54.60031622  21.48897426  29.36021618  33.11134196 118.3433212\n",
      "   -1.47106726]\n",
      " [ 47.90356517  13.61668819  36.          34.28687698 117.4490622\n",
      "   -4.24539542]\n",
      " [ 39.65690201  16.20883944  36.67485694  23.44806258 131.922009\n",
      "   -4.96897988]\n",
      " [ 66.50717865  20.89767207  31.72747138  45.60950658 128.9029049\n",
      "    1.51720336]\n",
      " [ 33.84164075   5.07399141  36.64123294  28.76764934 123.9452436\n",
      "   -0.19924909]\n",
      " [ 69.00491277  13.29178975  55.5701429   55.71312302 126.6116215\n",
      "   10.83201105]\n",
      " [ 61.44659663  22.6949683   46.17034732  38.75162833 125.6707246\n",
      "   -2.70787952]\n",
      " [ 53.93674778  20.72149628  29.22053381  33.21525149 114.365845\n",
      "   -0.42101039]\n",
      " [ 72.95564397  19.57697146  61.00707117  53.37867251 111.2340468\n",
      "    0.81349115]\n",
      " [ 38.12658854   6.55761741  50.44507473  31.56897113 132.114805\n",
      "    6.33819934]\n",
      " [ 89.83467631  22.63921678  90.56346144  67.19545953 100.5011917\n",
      "    3.04097326]\n",
      " [ 74.56501543  15.72431994  58.61858244  58.84069549 105.417304\n",
      "    0.59924711]\n",
      " [ 61.54059876  19.67695713  52.89222856  41.86364163 118.6862678\n",
      "    4.81503108]\n",
      " [ 41.6469159    8.8355491   36.03197484  32.8113668  116.5551679\n",
      "   -6.05453796]\n",
      " [ 49.82813487  16.73643493  28.          33.09169994 121.4355585\n",
      "    1.91330704]\n",
      " [ 50.75329025  20.23505957  37.          30.51823068 122.343516\n",
      "    2.28848775]\n",
      " [ 43.1919153    9.9766638   28.93814927  33.21525149 123.4674001\n",
      "    1.74101758]\n",
      " [ 40.41336566  -1.3294124   30.98276809  41.74277806 119.3356546\n",
      "   -6.17367482]\n",
      " [ 89.5049473   48.90365265  72.0034229   40.60129465 134.6342912\n",
      "  118.3533701 ]\n",
      " [ 65.00796426  27.60260762  50.94751899  37.40535663 116.5811088\n",
      "    7.01597788]\n",
      " [ 52.20469309  17.21267289  78.09496877  34.9920202  136.9725168\n",
      "   54.93913416]\n",
      " [ 96.65731511  19.46158117  90.21149828  77.19573393 120.6730408\n",
      "   64.08099841]\n",
      " [ 84.5856071   30.36168482  65.47948563  54.22392228 108.0102185\n",
      "   25.11847846]\n",
      " [118.1446548   38.44950127  50.83851954  79.69515353  81.0245406\n",
      "   74.04376736]\n",
      " [ 58.10193455  14.83763914  79.64983825  43.26429541 113.5876551\n",
      "   50.23787808]\n",
      " [ 77.65511874  22.4329501   93.89277881  55.22216863 123.0557067\n",
      "   61.2111866 ]\n",
      " [ 78.40125389  14.04225971  79.69426258  64.35899418 104.7312342\n",
      "   12.39285327]\n",
      " [ 75.64973136  19.33979889  64.14868477  56.30993248  95.9036288\n",
      "   69.55130292]\n",
      " [ 47.74467877  12.08935067  38.99999999  35.6553281  117.5120039\n",
      "   21.68240136]\n",
      " [ 75.43774787  31.53945399  89.59999999  43.89829388 106.8295898\n",
      "   54.96578902]\n",
      " [ 81.05661087  20.80149217  91.78449512  60.2551187  125.430176\n",
      "   38.18178176]\n",
      " [ 87.67908663  20.36561331  93.82241589  67.31347333 120.9448288\n",
      "   76.73062904]\n",
      " [ 80.07491418  48.06953097  52.40343873  32.00538321 110.7099121\n",
      "   67.72731595]\n",
      " [ 69.78100617  13.77746531  57.99999999  56.00354085 118.9306656\n",
      "   17.91456046]\n",
      " [ 72.64385013  18.92911726  67.99999999  53.71473287 116.9634162\n",
      "   25.38424676]\n",
      " [ 74.46908181  33.28315665  66.94210105  41.18592517 146.4660009\n",
      "  124.9844057 ]\n",
      " [ 72.34359434  16.42078962  59.86901238  55.92280472  70.08257486\n",
      "   12.07264427]\n",
      " [ 80.98807441  36.84317181  86.96060151  44.1449026  141.0881494\n",
      "   85.87215224]\n",
      " [ 59.78526526  17.87932332  59.20646143  41.90594194 119.3191109\n",
      "   22.12386874]\n",
      " [ 95.38259648  24.82263131  95.15763273  70.55996517  89.3075466\n",
      "   57.66084135]\n",
      " [ 76.31402766  41.93368293  93.2848628   34.38034472 132.2672855\n",
      "  101.2187828 ]\n",
      " [ 61.41173702  25.38436364  39.09686927  36.02737339 103.4045971\n",
      "   21.84340688]\n",
      " [ 85.35231529  15.84491006  71.66865979  69.50740523 124.4197875\n",
      "   76.0206034 ]\n",
      " [ 60.62621697  20.5959577   64.53526221  40.03025927 117.2255542\n",
      "  104.8592474 ]\n",
      " [ 53.94165809   9.30659443  43.10049819  44.63506366 124.3978211\n",
      "   25.0821266 ]\n",
      " [ 85.64378664  42.68919513  78.7506635   42.95459151 105.1440758\n",
      "   42.88742577]\n",
      " [ 63.36433898  20.02462134  67.49870507  43.33971763 130.9992576\n",
      "   37.55670552]\n",
      " [ 37.90391014   4.47909896  24.71027447  33.42481118 157.848799\n",
      "   33.60702661]\n",
      " [ 57.52235608  33.64707522  50.90985841  23.87528085 140.9817119\n",
      "  148.7537109 ]\n",
      " [ 58.82837872  37.57787321 125.7423855   21.25050551 135.6294176\n",
      "  117.3146829 ]\n",
      " [ 56.66829282  13.45820343  43.76970978  43.21008939  93.69220863\n",
      "   21.10812135]\n",
      " [ 70.22145219  39.82272448  68.11840309  30.39872771 148.5255624\n",
      "  145.3781432 ]\n",
      " [ 64.80954139  15.17407796  58.83999352  49.63546343 111.679961\n",
      "   21.40719845]\n",
      " [115.9232606   37.51543601  76.79999999  78.40782459 104.6986033\n",
      "   81.19892712]\n",
      " [ 42.02138603  -6.55494835  67.89999999  48.57633437 111.5857819\n",
      "   27.33867086]\n",
      " [ 68.72190982  49.4318636   68.0560124   19.29004622 125.0185168\n",
      "   54.69128928]\n",
      " [ 65.53600255  24.15748726  45.77516991  41.3785153  136.4403015\n",
      "   16.37808564]]\n"
     ]
    }
   ],
   "source": [
    "# get support vectors\n",
    "supportVectors = classifier.support_vectors_\n",
    "print(\"Support Vectors: \\n\", supportVectors)"
   ]
  },
  {
   "cell_type": "code",
   "execution_count": 73,
   "metadata": {},
   "outputs": [
    {
     "name": "stdout",
     "output_type": "stream",
     "text": [
      "Support Vector Indices: \n",
      " [ 13  22  35  37  46  49  52  59  66  72  78  79  88  89 112 120 130 133\n",
      " 146 147 150 160 162 165 166 168 173 186 190 202 204 207   2   5   6  10\n",
      "  20  24  26  29  36  38  43  44  51  55  60  61  62  67  71  75  84  87\n",
      "  91 104 114 115 119 124 127 128 131 135 142 145 149 152 163 169 176 179\n",
      " 180 185 196 205   1  19  21  23  27  32  41  45  50  56  63  69  77  83\n",
      "  85  90  93  99 103 116 117 118 121 136 139 143 151 153 156 157 159 161\n",
      " 174 178 182 188 197 199 203]\n"
     ]
    }
   ],
   "source": [
    "# get indices of support vectors\n",
    "supportVectorIndices = classifier.support_\n",
    "print(\"Support Vector Indices: \\n\", supportVectorIndices)\n"
   ]
  },
  {
   "cell_type": "code",
   "execution_count": 86,
   "metadata": {},
   "outputs": [
    {
     "name": "stdout",
     "output_type": "stream",
     "text": [
      "Support Vectors Count: \n",
      " [32 44 39]\n",
      "Support Vectors Count for 'Abnormal' Class: \n",
      " 32\n",
      "Support Vectors Count for 'Normal' Class: \n",
      " 44\n"
     ]
    }
   ],
   "source": [
    "# get number of support vectors for each class - In Ascending Order\n",
    "supportVectorCount = classifier.n_support_\n",
    "print(\"Support Vectors Count: \\n\", supportVectorCount)\n",
    "print(\"Support Vectors Count for 'Abnormal' Class: \\n\", supportVectorCount[0])\n",
    "print(\"Support Vectors Count for 'Normal' Class: \\n\", supportVectorCount[1])"
   ]
  },
  {
   "cell_type": "code",
   "execution_count": 87,
   "metadata": {},
   "outputs": [
    {
     "name": "stdout",
     "output_type": "stream",
     "text": [
      "Features: \n",
      " ['pelvic_incidence', 'pelvic_tilt', 'lumbar_lordosis_angle', 'sacral_slope', 'pelvic_radius', 'degree_spondylolisthesis']\n"
     ]
    }
   ],
   "source": [
    "#Now take the Testing data:--------------------------------------------------------------------------\n",
    "#Get the first 6 column names of the Test data and assign it to the Test Features (tFeatures)\n",
    "tFeatures = list(test_data.columns[:6])\n",
    "print(\"Features: \\n\", tFeatures)\n"
   ]
  },
  {
   "cell_type": "code",
   "execution_count": 76,
   "metadata": {},
   "outputs": [
    {
     "name": "stdout",
     "output_type": "stream",
     "text": [
      "Test Features: \n",
      "      pelvic_incidence  pelvic_tilt  lumbar_lordosis_angle  sacral_slope  \\\n",
      "147         55.080766    -3.759930              56.000000     58.840695   \n",
      "6           53.432928    15.864336              37.165934     37.568592   \n",
      "72          84.974132    33.021175              60.859873     51.952957   \n",
      "277         65.756348    13.206926              44.000000     52.549422   \n",
      "262         42.517272    14.375671              25.323565     28.141601   \n",
      "\n",
      "     pelvic_radius  degree_spondylolisthesis  \n",
      "147     109.915367                 31.773583  \n",
      "6       120.567523                  5.988551  \n",
      "72      125.659534                 74.333409  \n",
      "277     129.393573                 -1.982120  \n",
      "262     128.905689                  0.757020  \n"
     ]
    }
   ],
   "source": [
    "#Get the data of the Test Features\n",
    "testFeatures = test_data[tFeatures]\n",
    "print(\"Test Features: \\n\", testFeatures.head())"
   ]
  },
  {
   "cell_type": "code",
   "execution_count": 88,
   "metadata": {},
   "outputs": [],
   "source": [
    "#Use the classifier to predict the class of the Testing data\n",
    "testPrediction = classifier.predict(testFeatures)\n",
    "#print(\"Test Prediction: \\n\", testPrediction)"
   ]
  },
  {
   "cell_type": "code",
   "execution_count": 89,
   "metadata": {},
   "outputs": [],
   "source": [
    "#For measuring parameters like Accuracy, Recall and Precision, compare this Predicted class with the Actul class of the Testing data\n",
    "#Get the Actual class of the Testing data\n",
    "testClass = list(test_data[\"class\"])\n",
    "#print(\"Test Actual Class: \\n\", testClass)"
   ]
  },
  {
   "cell_type": "code",
   "execution_count": 90,
   "metadata": {},
   "outputs": [
    {
     "name": "stdout",
     "output_type": "stream",
     "text": [
      "Confusion Matrix: \n",
      " [[13  8  0]\n",
      " [ 4 26  0]\n",
      " [ 0  2 47]]\n"
     ]
    }
   ],
   "source": [
    "#Creating a Confusion Matrix for the Actual Vs Prediction\n",
    "confusionMatrix = confusion_matrix(testClass, testPrediction)\n",
    "print(\"Confusion Matrix: \\n\", confusionMatrix)"
   ]
  },
  {
   "cell_type": "code",
   "execution_count": 91,
   "metadata": {},
   "outputs": [
    {
     "name": "stdout",
     "output_type": "stream",
     "text": [
      "Accuracy of the Classifier: 86.00 %\n"
     ]
    }
   ],
   "source": [
    "#Measuring the Accuracy, Precision and Recall scores of the Classifier\n",
    "#Accuracy is measured for the entire classifier, while Precision and Recall are computed for each class\n",
    "print(\"Accuracy of the Classifier: %.2f\" %(100*accuracy_score(testClass, testPrediction)),\"%\")\n"
   ]
  },
  {
   "cell_type": "code",
   "execution_count": 92,
   "metadata": {},
   "outputs": [
    {
     "name": "stdout",
     "output_type": "stream",
     "text": [
      "Support Vectors Count: \n",
      " [32 44 39]\n",
      "76\n"
     ]
    }
   ],
   "source": [
    "print(\"Support Vectors Count: \\n\", supportVectorCount)\n",
    "print(supportVectorCount[0]+supportVectorCount[1])\n"
   ]
  },
  {
   "cell_type": "code",
   "execution_count": 82,
   "metadata": {},
   "outputs": [
    {
     "data": {
      "image/png": "[encoded data removed]",
      "text/plain": [
       "<Figure size 432x288 with 2 Axes>"
      ]
     },
     "metadata": {
      "needs_background": "light"
     },
     "output_type": "display_data"
    }
   ],
   "source": [
    "#When you set xticklabels=True, yticklabels=True in the Heatmap function, it automatically provides the labels for Confusion matrix with 0s, 1s and 2s in the Ascending order of the Class labels  \n",
    "#Use this to find out the labels of the Confusion Matrix:\n",
    "import seaborn as sns\n",
    "sns.heatmap(confusionMatrix, annot=True, linewidths=.5, xticklabels=True, yticklabels=True);"
   ]
  },
  {
   "cell_type": "code",
   "execution_count": 28,
   "metadata": {},
   "outputs": [],
   "source": [
    "#After you find out the labels in the Confusion Matrix, remove the xticklabels & yticklabels parameters. Set the labels manually now\n",
    "#annot=True to annotate cells - This provides labels(numbers) in the Confusion Matrix"
   ]
  },
  {
   "cell_type": "code",
   "execution_count": 29,
   "metadata": {},
   "outputs": [
    {
     "data": {
      "image/png": "[encoded data removed]",
      "text/plain": [
       "<Figure size 432x288 with 2 Axes>"
      ]
     },
     "metadata": {
      "needs_background": "light"
     },
     "output_type": "display_data"
    }
   ],
   "source": [
    "import seaborn as sns\n",
    "sns.heatmap(confusionMatrix, annot=True, linewidths=.5);\n",
    "import matplotlib.pyplot as plt\n",
    "from pylab import *\n",
    "ax = gca()              \n",
    "ax.xaxis.set_ticklabels(['Abnormal', 'Normal'], fontsize=12); ax.yaxis.set_ticklabels(['Normal', 'Abnormal'], fontsize=12);\n"
   ]
  },
  {
   "cell_type": "code",
   "execution_count": 93,
   "metadata": {},
   "outputs": [
    {
     "data": {
      "image/png": "[encoded data removed]",
      "text/plain": [
       "<Figure size 432x288 with 1 Axes>"
      ]
     },
     "metadata": {
      "needs_background": "light"
     },
     "output_type": "display_data"
    }
   ],
   "source": [
    "#Setting the labels, title and tick marks\n",
    "#Usually in the Confusion Matrix, the Y-Axis represents the True Values and X-Axis represents the Predicted Values\n",
    "ax = gca()              \n",
    "ax.set_title('Confusion Matrix', fontsize=20);\n",
    "ax.set_xlabel('Predicted Labels', fontsize=14);\n",
    "ax.set_ylabel('True Labels', fontsize=14); "
   ]
  },
  {
   "cell_type": "code",
   "execution_count": 94,
   "metadata": {},
   "outputs": [],
   "source": [
    "#ax.plot()\n",
    "plt.show()"
   ]
  },
  {
   "cell_type": "code",
   "execution_count": 95,
   "metadata": {},
   "outputs": [],
   "source": [
    "#print(type(supportVectors))\n",
    "#Changing the Support Vectors array into a Data Frame\n",
    "supportVectorsdf = pd.DataFrame(supportVectors)\n"
   ]
  },
  {
   "cell_type": "code",
   "execution_count": 96,
   "metadata": {},
   "outputs": [],
   "source": [
    "#Storing the first column of the SupportVectors dataframe as col1df\n",
    "col1df=  supportVectorsdf[supportVectorsdf.columns[0:1]]\n",
    "#print(\"Support Vectors 1st Column: \\n\", col1df)"
   ]
  },
  {
   "cell_type": "code",
   "execution_count": 34,
   "metadata": {},
   "outputs": [
    {
     "data": {
      "text/plain": [
       "'\\n#Minimum value of the column\\n#axis=0 for Columns & axis=1 for rows\\n\\ncol1min = col1df.min(axis=0)\\nprint(\"Minimum value of Column 1:\",col1min)\\n\\n#Maximum value of the column\\n\\ncol1max = col1df.max(axis=0)\\nprint(\"Maximum value of Column 1:\",col1max)\\n\\n#Range of the column\\nrange1= col1max-col1min\\nprint(\"Range of Column 1: \", range1)\\n\\n#Summary statistics of the column\\nprint(\"Column 1 Summary:\", col1df.describe())'"
      ]
     },
     "execution_count": 34,
     "metadata": {},
     "output_type": "execute_result"
    }
   ],
   "source": [
    "\"\"\"\n",
    "#Minimum value of the column\n",
    "#axis=0 for Columns & axis=1 for rows\n",
    "\n",
    "col1min = col1df.min(axis=0)\n",
    "print(\"Minimum value of Column 1:\",col1min)\n",
    "\n",
    "#Maximum value of the column\n",
    "\n",
    "col1max = col1df.max(axis=0)\n",
    "print(\"Maximum value of Column 1:\",col1max)\n",
    "\n",
    "#Range of the column\n",
    "range1= col1max-col1min\n",
    "print(\"Range of Column 1: \", range1)\n",
    "\n",
    "#Summary statistics of the column\n",
    "print(\"Column 1 Summary:\", col1df.describe())\"\"\"\n",
    "\n"
   ]
  },
  {
   "cell_type": "code",
   "execution_count": 98,
   "metadata": {},
   "outputs": [
    {
     "name": "stdout",
     "output_type": "stream",
     "text": [
      "Column 1 Summary: \n",
      "                 0\n",
      "count  115.000000\n",
      "mean    58.717813\n",
      "std     17.358313\n",
      "min     30.149936\n",
      "25%     45.094733\n",
      "50%     56.030218\n",
      "75%     68.776965\n",
      "max    118.144655\n",
      "Range of Column 1:  0    87.994718\n",
      "dtype: float64\n",
      "Column 2 Summary: \n",
      "                 1\n",
      "count  115.000000\n",
      "mean    19.009556\n",
      "std     10.381991\n",
      "min     -6.554948\n",
      "25%     13.437397\n",
      "50%     17.212673\n",
      "75%     22.667093\n",
      "max     49.431864\n",
      "Range of Column 2:  1    55.986812\n",
      "dtype: float64\n",
      "Column 3 Summary: \n",
      "                 2\n",
      "count  115.000000\n",
      "mean    50.254714\n",
      "std     20.585324\n",
      "min     15.500000\n",
      "25%     34.228770\n",
      "50%     47.000000\n",
      "75%     62.880378\n",
      "max    125.742385\n",
      "Range of Column 3:  2    110.242385\n",
      "dtype: float64\n",
      "Column 4 Summary: \n",
      "                 3\n",
      "count  115.000000\n",
      "mean    39.708257\n",
      "std     13.351317\n",
      "min     13.516568\n",
      "25%     30.825478\n",
      "50%     37.405357\n",
      "75%     44.817532\n",
      "max     79.695154\n",
      "Range of Column 4:  3    66.178585\n",
      "dtype: float64\n",
      "Column 5 Summary: \n",
      "                 4\n",
      "count  115.000000\n",
      "mean   118.863799\n",
      "std     12.859336\n",
      "min     70.082575\n",
      "25%    112.496816\n",
      "50%    119.134622\n",
      "75%    125.016439\n",
      "max    157.848799\n",
      "Range of Column 5:  4    87.766224\n",
      "dtype: float64\n",
      "Column 6 Summary: \n",
      "                 5\n",
      "count  115.000000\n",
      "mean    21.132989\n",
      "std     34.498030\n",
      "min    -10.675871\n",
      "25%      0.197234\n",
      "50%      6.298971\n",
      "75%     25.251363\n",
      "max    148.753711\n",
      "Range of Column 6:  5    159.429582\n",
      "dtype: float64\n"
     ]
    }
   ],
   "source": [
    "#Summary statistics of the column 1\n",
    "print(\"Column 1 Summary: \\n\", col1df.describe())\n",
    "\n",
    "#Range of Column 1\n",
    "#axis=0 for Columns & axis=1 for rows\n",
    "range1= col1df.max(axis=0)-col1df.min(axis=0)\n",
    "print(\"Range of Column 1: \", range1)\n",
    "\n",
    "########################################\n",
    "\n",
    "col2df=  supportVectorsdf[supportVectorsdf.columns[1:2]]\n",
    "#print(\"Support Vectors 2nd Column: \\n\", col2df)\n",
    "\n",
    "#Summary statistics of the column 2\n",
    "print(\"Column 2 Summary: \\n\", col2df.describe())\n",
    "\n",
    "#Range of Column 2\n",
    "range2= col2df.max(axis=0)-col2df.min(axis=0)\n",
    "print(\"Range of Column 2: \", range2)\n",
    "\n",
    "########################################\n",
    "\n",
    "col3df=  supportVectorsdf[supportVectorsdf.columns[2:3]]\n",
    "#print(\"Support Vectors 3rd Column: \\n\", col3df)\n",
    "\n",
    "#Summary statistics of the column 3\n",
    "print(\"Column 3 Summary: \\n\", col3df.describe())\n",
    "\n",
    "#Range of Column 3\n",
    "range3= col3df.max(axis=0)-col3df.min(axis=0)\n",
    "print(\"Range of Column 3: \", range3)\n",
    "\n",
    "########################################\n",
    "\n",
    "col4df=  supportVectorsdf[supportVectorsdf.columns[3:4]]\n",
    "#print(\"Support Vectors 4th Column: \\n\", col4df)\n",
    "\n",
    "#Summary statistics of the column 4\n",
    "print(\"Column 4 Summary: \\n\", col4df.describe())\n",
    "\n",
    "#Range of Column 4\n",
    "range4= col4df.max(axis=0)-col4df.min(axis=0)\n",
    "print(\"Range of Column 4: \", range4)\n",
    "\n",
    "########################################\n",
    "\n",
    "col5df=  supportVectorsdf[supportVectorsdf.columns[4:5]]\n",
    "#print(\"Support Vectors 5th Column: \\n\", col5df)\n",
    "\n",
    "#Summary statistics of the column 5\n",
    "print(\"Column 5 Summary: \\n\", col5df.describe())\n",
    "\n",
    "#Range of Column 5\n",
    "range5= col5df.max(axis=0)-col5df.min(axis=0)\n",
    "print(\"Range of Column 5: \", range5)\n",
    "\n",
    "########################################\n",
    "\n",
    "col6df=  supportVectorsdf[supportVectorsdf.columns[5:6]]\n",
    "#print(\"Support Vectors 6th Column: \\n\", col6df)\n",
    "\n",
    "#Summary statistics of the column 6\n",
    "print(\"Column 6 Summary: \\n\", col6df.describe())\n",
    "\n",
    "#Range of Column 6\n",
    "range6= col6df.max(axis=0)-col6df.min(axis=0)\n",
    "print(\"Range of Column 6: \", range6)\n"
   ]
  },
  {
   "cell_type": "code",
   "execution_count": null,
   "metadata": {},
   "outputs": [],
   "source": []
  },
  {
   "cell_type": "code",
   "execution_count": 99,
   "metadata": {},
   "outputs": [
    {
     "data": {
      "image/png": "[encoded data removed]",
      "text/plain": [
       "<Figure size 432x288 with 2 Axes>"
      ]
     },
     "metadata": {
      "needs_background": "light"
     },
     "output_type": "display_data"
    }
   ],
   "source": [
    "import seaborn as sns\n",
    "sns.heatmap(confusionMatrix, annot=True, linewidths=.5);\n",
    "import matplotlib.pyplot as plt\n",
    "from pylab import *\n",
    "ax = gca()              \n",
    "ax.xaxis.set_ticklabels(['Abnormal', 'Normal'], fontsize=11); ax.yaxis.set_ticklabels(['Normal', 'Abnormal'], fontsize=12);"
   ]
  },
  {
   "cell_type": "code",
   "execution_count": null,
   "metadata": {},
   "outputs": [],
   "source": []
  }
 ],
 "metadata": {
  "kernelspec": {
   "display_name": "Python 3",
   "language": "python",
   "name": "python3"
  },
  "language_info": {
   "codemirror_mode": {
    "name": "ipython",
    "version": 3
   },
   "file_extension": ".py",
   "mimetype": "text/x-python",
   "name": "python",
   "nbconvert_exporter": "python",
   "pygments_lexer": "ipython3",
   "version": "3.8.3"
  }
 },
 "nbformat": 4,
 "nbformat_minor": 4
}
