{
 "cells": [
  {
   "cell_type": "code",
   "execution_count": 1,
   "metadata": {},
   "outputs": [],
   "source": [
    "import numpy as np\n",
    "import pandas as pd\n",
    "from pandas import Series,DataFrame"
   ]
  },
  {
   "cell_type": "code",
   "execution_count": 2,
   "metadata": {},
   "outputs": [
    {
     "name": "stdout",
     "output_type": "stream",
     "text": [
      "a    1\n",
      "b    2\n",
      "c    3\n",
      "d    4\n",
      "dtype: int64\n"
     ]
    }
   ],
   "source": [
    "S1= Series([1,2,3,4],index=['a','b','c','d'])\n",
    "print(S1)"
   ]
  },
  {
   "cell_type": "code",
   "execution_count": 3,
   "metadata": {},
   "outputs": [],
   "source": [
    "S1=S1.reindex(['a','b','c','d','e','f'])"
   ]
  },
  {
   "cell_type": "code",
   "execution_count": 5,
   "metadata": {},
   "outputs": [
    {
     "name": "stdout",
     "output_type": "stream",
     "text": [
      "a    1.0\n",
      "b    2.0\n",
      "c    3.0\n",
      "d    4.0\n",
      "e    NaN\n",
      "f    NaN\n",
      "dtype: float64\n"
     ]
    }
   ],
   "source": [
    "print(S1)"
   ]
  },
  {
   "cell_type": "code",
   "execution_count": 6,
   "metadata": {},
   "outputs": [
    {
     "name": "stdout",
     "output_type": "stream",
     "text": [
      "a      1.0\n",
      "b      2.0\n",
      "c      3.0\n",
      "d      4.0\n",
      "e      NaN\n",
      "f      NaN\n",
      "g    100.0\n",
      "dtype: float64\n"
     ]
    }
   ],
   "source": [
    "S1=S1.reindex(['a','b','c','d','e','f','g'],fill_value=100)\n",
    "print(S1)"
   ]
  },
  {
   "cell_type": "code",
   "execution_count": 9,
   "metadata": {},
   "outputs": [
    {
     "name": "stdout",
     "output_type": "stream",
     "text": [
      "0      Audi\n",
      "4       BMW\n",
      "8     Volvo\n",
      "13    Honda\n",
      "dtype: object\n"
     ]
    }
   ],
   "source": [
    "# Reindexing the series\n",
    "cars =Series(['Audi','BMW','Volvo','Honda'],index = [0,4,8,13])\n",
    "print(cars)"
   ]
  },
  {
   "cell_type": "code",
   "execution_count": 12,
   "metadata": {},
   "outputs": [
    {
     "name": "stdout",
     "output_type": "stream",
     "text": [
      "0      Audi\n",
      "1      Audi\n",
      "2      Audi\n",
      "3      Audi\n",
      "4       BMW\n",
      "5       BMW\n",
      "6       BMW\n",
      "7       BMW\n",
      "8     Volvo\n",
      "9     Volvo\n",
      "10    Volvo\n",
      "11    Volvo\n",
      "dtype: object\n"
     ]
    }
   ],
   "source": [
    "new_index =range(12)\n",
    "cars =cars.reindex(new_index,method='ffill')\n",
    "print(cars)"
   ]
  },
  {
   "cell_type": "code",
   "execution_count": 13,
   "metadata": {},
   "outputs": [
    {
     "name": "stdout",
     "output_type": "stream",
     "text": [
      "         c1        c2        c3        c4        c5\n",
      "a  0.660978  0.012934 -0.054033  0.514912  0.680413\n",
      "b -0.008397 -0.269693 -0.312705  0.379168 -2.128412\n",
      "c -2.006080  0.981643  0.050134  0.490097  0.899694\n",
      "d -0.656240 -0.705783  0.396847 -0.286590  0.411779\n",
      "e  0.432709 -1.029864  0.480197  1.556372 -0.928161\n"
     ]
    }
   ],
   "source": [
    "# Reindexing the Dataframe\n",
    "df1=DataFrame(np.random.randn(25).reshape(5,5), index = ['a','b','c','d','e'],columns =['c1','c2','c3','c4','c5'])\n",
    "print(df1)\n"
   ]
  },
  {
   "cell_type": "code",
   "execution_count": 14,
   "metadata": {},
   "outputs": [
    {
     "name": "stdout",
     "output_type": "stream",
     "text": [
      "         c1        c2        c3        c4        c5  c6\n",
      "a  0.660978  0.012934 -0.054033  0.514912  0.680413 NaN\n",
      "b -0.008397 -0.269693 -0.312705  0.379168 -2.128412 NaN\n",
      "c -2.006080  0.981643  0.050134  0.490097  0.899694 NaN\n",
      "d -0.656240 -0.705783  0.396847 -0.286590  0.411779 NaN\n",
      "e  0.432709 -1.029864  0.480197  1.556372 -0.928161 NaN\n"
     ]
    }
   ],
   "source": [
    "df1=df1.reindex(index=['a','b','c','d','e'], columns =['c1','c2','c3','c4','c5','c6'])\n",
    "print(df1)"
   ]
  },
  {
   "cell_type": "code",
   "execution_count": null,
   "metadata": {},
   "outputs": [],
   "source": []
  }
 ],
 "metadata": {
  "kernelspec": {
   "display_name": "Python 3",
   "language": "python",
   "name": "python3"
  },
  "language_info": {
   "codemirror_mode": {
    "name": "ipython",
    "version": 3
   },
   "file_extension": ".py",
   "mimetype": "text/x-python",
   "name": "python",
   "nbconvert_exporter": "python",
   "pygments_lexer": "ipython3",
   "version": "3.8.5"
  }
 },
 "nbformat": 4,
 "nbformat_minor": 4
}
