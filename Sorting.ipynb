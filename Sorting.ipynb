{
 "cells": [
  {
   "cell_type": "code",
   "execution_count": 1,
   "metadata": {},
   "outputs": [],
   "source": [
    "import numpy as np\n",
    "import pandas as pd\n",
    "from pandas import Series,DataFrame"
   ]
  },
  {
   "cell_type": "code",
   "execution_count": 6,
   "metadata": {},
   "outputs": [
    {
     "name": "stdout",
     "output_type": "stream",
     "text": [
      "a    500\n",
      "b    600\n",
      "c    559\n",
      "dtype: int64\n"
     ]
    }
   ],
   "source": [
    "ser1 = Series([500,600,559],index = ['a','b','c'])\n",
    "print(ser1)"
   ]
  },
  {
   "cell_type": "code",
   "execution_count": 7,
   "metadata": {},
   "outputs": [
    {
     "data": {
      "text/plain": [
       "a    500\n",
       "b    600\n",
       "c    559\n",
       "dtype: int64"
      ]
     },
     "execution_count": 7,
     "metadata": {},
     "output_type": "execute_result"
    }
   ],
   "source": [
    "ser1.sort_index()"
   ]
  },
  {
   "cell_type": "code",
   "execution_count": 8,
   "metadata": {},
   "outputs": [
    {
     "data": {
      "text/plain": [
       "a    500\n",
       "c    559\n",
       "b    600\n",
       "dtype: int64"
      ]
     },
     "execution_count": 8,
     "metadata": {},
     "output_type": "execute_result"
    }
   ],
   "source": [
    "ser1.sort_values()"
   ]
  },
  {
   "cell_type": "code",
   "execution_count": 9,
   "metadata": {},
   "outputs": [
    {
     "name": "stdout",
     "output_type": "stream",
     "text": [
      "0    50\n",
      "1    60\n",
      "2    59\n",
      "3    58\n",
      "4    21\n",
      "5    11\n",
      "6    18\n",
      "7     9\n",
      "8    78\n",
      "dtype: int64\n"
     ]
    }
   ],
   "source": [
    "ser2 = Series([50,60,59,58,21,11,18,9,78])\n",
    "print(ser2)"
   ]
  },
  {
   "cell_type": "code",
   "execution_count": 10,
   "metadata": {},
   "outputs": [
    {
     "data": {
      "text/plain": [
       "0    5.0\n",
       "1    8.0\n",
       "2    7.0\n",
       "3    6.0\n",
       "4    4.0\n",
       "5    2.0\n",
       "6    3.0\n",
       "7    1.0\n",
       "8    9.0\n",
       "dtype: float64"
      ]
     },
     "execution_count": 10,
     "metadata": {},
     "output_type": "execute_result"
    }
   ],
   "source": [
    "ser2.rank()"
   ]
  },
  {
   "cell_type": "code",
   "execution_count": 12,
   "metadata": {},
   "outputs": [
    {
     "name": "stdout",
     "output_type": "stream",
     "text": [
      "0    5.0\n",
      "1    8.0\n",
      "2    7.0\n",
      "3    6.0\n",
      "4    4.0\n",
      "5    2.0\n",
      "6    3.0\n",
      "7    1.0\n",
      "8    9.0\n",
      "dtype: float64\n",
      "7     9\n",
      "5    11\n",
      "6    18\n",
      "4    21\n",
      "0    50\n",
      "3    58\n",
      "2    59\n",
      "1    60\n",
      "8    78\n",
      "dtype: int64\n",
      "0    5.0\n",
      "1    8.0\n",
      "2    7.0\n",
      "3    6.0\n",
      "4    4.0\n",
      "5    2.0\n",
      "6    3.0\n",
      "7    1.0\n",
      "8    9.0\n",
      "dtype: float64\n"
     ]
    }
   ],
   "source": [
    "print(ser2.rank())\n",
    "print(ser2.sort_values())\n",
    "print(ser2.rank())\n",
    "ser2 =ser2.sort_values()"
   ]
  },
  {
   "cell_type": "code",
   "execution_count": null,
   "metadata": {},
   "outputs": [],
   "source": []
  }
 ],
 "metadata": {
  "kernelspec": {
   "display_name": "Python 3",
   "language": "python",
   "name": "python3"
  },
  "language_info": {
   "codemirror_mode": {
    "name": "ipython",
    "version": 3
   },
   "file_extension": ".py",
   "mimetype": "text/x-python",
   "name": "python",
   "nbconvert_exporter": "python",
   "pygments_lexer": "ipython3",
   "version": "3.8.5"
  }
 },
 "nbformat": 4,
 "nbformat_minor": 4
}
